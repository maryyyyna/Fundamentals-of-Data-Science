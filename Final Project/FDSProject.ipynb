{
 "cells": [
  {
   "cell_type": "markdown",
   "id": "2663f55e",
   "metadata": {},
   "source": [
    "# Email Spam Classification"
   ]
  },
  {
   "cell_type": "markdown",
   "id": "e70cbc98",
   "metadata": {},
   "source": [
    "| Group Member  | Student ID | Email|\n",
    "| ------------- | ------------- | ------------- | \n",
    "| Aur Marina Iuliana | 1809715  | aur.1809715@studenti.uniroma1.it |\n",
    "| Ilaria Gagliardi | 1796812 | gagliardi.1796812@studenti.uniroma1.it |\n",
    "| Sophia Balestrucci | 1713638  | balestrucci.1713638@studenti.uniroma1.it |\n",
    "| Michele Musacchio | 2070948  | musacchiomichele@gmail.com |\n",
    "| Viktoriia Vlasenko | 2088928  | viktoriiavvlasenko@gmail.com |\n"
   ]
  },
  {
   "cell_type": "markdown",
   "id": "64c0bbd7",
   "metadata": {},
   "source": [
    "# Libraries"
   ]
  },
  {
   "cell_type": "code",
   "execution_count": 1,
   "id": "3cf235ef",
   "metadata": {},
   "outputs": [],
   "source": [
    "import pandas as pd\n",
    "import numpy as np\n",
    "from matplotlib import pyplot as plt\n",
    "import seaborn as sns\n",
    "import collections\n",
    "from collections import Counter\n",
    "import nltk\n",
    "from nltk.corpus import stopwords\n",
    "from nltk.tokenize import word_tokenize\n",
    "from nltk.stem import *\n",
    "from nltk.stem.snowball import SnowballStemmer\n",
    "from nltk.tokenize import RegexpTokenizer\n",
    "#nltk.download('stopwords')\n",
    "#nltk.download('punkt')"
   ]
  },
  {
   "cell_type": "code",
   "execution_count": 2,
   "id": "705ed899",
   "metadata": {},
   "outputs": [],
   "source": [
    "import warnings\n",
    "warnings.simplefilter(action='ignore', category=FutureWarning)"
   ]
  },
  {
   "cell_type": "markdown",
   "id": "eb4731a2",
   "metadata": {},
   "source": [
    "\n",
    "# 1. Pre-processing"
   ]
  },
  {
   "cell_type": "code",
   "execution_count": 3,
   "id": "9d34ba20",
   "metadata": {},
   "outputs": [
    {
     "data": {
      "text/html": [
       "<div>\n",
       "<style scoped>\n",
       "    .dataframe tbody tr th:only-of-type {\n",
       "        vertical-align: middle;\n",
       "    }\n",
       "\n",
       "    .dataframe tbody tr th {\n",
       "        vertical-align: top;\n",
       "    }\n",
       "\n",
       "    .dataframe thead th {\n",
       "        text-align: right;\n",
       "    }\n",
       "</style>\n",
       "<table border=\"1\" class=\"dataframe\">\n",
       "  <thead>\n",
       "    <tr style=\"text-align: right;\">\n",
       "      <th></th>\n",
       "      <th>Email No.</th>\n",
       "      <th>the</th>\n",
       "      <th>to</th>\n",
       "      <th>ect</th>\n",
       "      <th>and</th>\n",
       "      <th>for</th>\n",
       "      <th>of</th>\n",
       "      <th>a</th>\n",
       "      <th>you</th>\n",
       "      <th>hou</th>\n",
       "      <th>...</th>\n",
       "      <th>connevey</th>\n",
       "      <th>jay</th>\n",
       "      <th>valued</th>\n",
       "      <th>lay</th>\n",
       "      <th>infrastructure</th>\n",
       "      <th>military</th>\n",
       "      <th>allowing</th>\n",
       "      <th>ff</th>\n",
       "      <th>dry</th>\n",
       "      <th>Prediction</th>\n",
       "    </tr>\n",
       "  </thead>\n",
       "  <tbody>\n",
       "    <tr>\n",
       "      <th>0</th>\n",
       "      <td>Email 1</td>\n",
       "      <td>0</td>\n",
       "      <td>0</td>\n",
       "      <td>1</td>\n",
       "      <td>0</td>\n",
       "      <td>0</td>\n",
       "      <td>0</td>\n",
       "      <td>2</td>\n",
       "      <td>0</td>\n",
       "      <td>0</td>\n",
       "      <td>...</td>\n",
       "      <td>0</td>\n",
       "      <td>0</td>\n",
       "      <td>0</td>\n",
       "      <td>0</td>\n",
       "      <td>0</td>\n",
       "      <td>0</td>\n",
       "      <td>0</td>\n",
       "      <td>0</td>\n",
       "      <td>0</td>\n",
       "      <td>0</td>\n",
       "    </tr>\n",
       "    <tr>\n",
       "      <th>1</th>\n",
       "      <td>Email 2</td>\n",
       "      <td>8</td>\n",
       "      <td>13</td>\n",
       "      <td>24</td>\n",
       "      <td>6</td>\n",
       "      <td>6</td>\n",
       "      <td>2</td>\n",
       "      <td>102</td>\n",
       "      <td>1</td>\n",
       "      <td>27</td>\n",
       "      <td>...</td>\n",
       "      <td>0</td>\n",
       "      <td>0</td>\n",
       "      <td>0</td>\n",
       "      <td>0</td>\n",
       "      <td>0</td>\n",
       "      <td>0</td>\n",
       "      <td>0</td>\n",
       "      <td>1</td>\n",
       "      <td>0</td>\n",
       "      <td>0</td>\n",
       "    </tr>\n",
       "    <tr>\n",
       "      <th>2</th>\n",
       "      <td>Email 3</td>\n",
       "      <td>0</td>\n",
       "      <td>0</td>\n",
       "      <td>1</td>\n",
       "      <td>0</td>\n",
       "      <td>0</td>\n",
       "      <td>0</td>\n",
       "      <td>8</td>\n",
       "      <td>0</td>\n",
       "      <td>0</td>\n",
       "      <td>...</td>\n",
       "      <td>0</td>\n",
       "      <td>0</td>\n",
       "      <td>0</td>\n",
       "      <td>0</td>\n",
       "      <td>0</td>\n",
       "      <td>0</td>\n",
       "      <td>0</td>\n",
       "      <td>0</td>\n",
       "      <td>0</td>\n",
       "      <td>0</td>\n",
       "    </tr>\n",
       "    <tr>\n",
       "      <th>3</th>\n",
       "      <td>Email 4</td>\n",
       "      <td>0</td>\n",
       "      <td>5</td>\n",
       "      <td>22</td>\n",
       "      <td>0</td>\n",
       "      <td>5</td>\n",
       "      <td>1</td>\n",
       "      <td>51</td>\n",
       "      <td>2</td>\n",
       "      <td>10</td>\n",
       "      <td>...</td>\n",
       "      <td>0</td>\n",
       "      <td>0</td>\n",
       "      <td>0</td>\n",
       "      <td>0</td>\n",
       "      <td>0</td>\n",
       "      <td>0</td>\n",
       "      <td>0</td>\n",
       "      <td>0</td>\n",
       "      <td>0</td>\n",
       "      <td>0</td>\n",
       "    </tr>\n",
       "    <tr>\n",
       "      <th>4</th>\n",
       "      <td>Email 5</td>\n",
       "      <td>7</td>\n",
       "      <td>6</td>\n",
       "      <td>17</td>\n",
       "      <td>1</td>\n",
       "      <td>5</td>\n",
       "      <td>2</td>\n",
       "      <td>57</td>\n",
       "      <td>0</td>\n",
       "      <td>9</td>\n",
       "      <td>...</td>\n",
       "      <td>0</td>\n",
       "      <td>0</td>\n",
       "      <td>0</td>\n",
       "      <td>0</td>\n",
       "      <td>0</td>\n",
       "      <td>0</td>\n",
       "      <td>0</td>\n",
       "      <td>1</td>\n",
       "      <td>0</td>\n",
       "      <td>0</td>\n",
       "    </tr>\n",
       "  </tbody>\n",
       "</table>\n",
       "<p>5 rows × 3002 columns</p>\n",
       "</div>"
      ],
      "text/plain": [
       "  Email No.  the  to  ect  and  for  of    a  you  hou  ...  connevey  jay  \\\n",
       "0   Email 1    0   0    1    0    0   0    2    0    0  ...         0    0   \n",
       "1   Email 2    8  13   24    6    6   2  102    1   27  ...         0    0   \n",
       "2   Email 3    0   0    1    0    0   0    8    0    0  ...         0    0   \n",
       "3   Email 4    0   5   22    0    5   1   51    2   10  ...         0    0   \n",
       "4   Email 5    7   6   17    1    5   2   57    0    9  ...         0    0   \n",
       "\n",
       "   valued  lay  infrastructure  military  allowing  ff  dry  Prediction  \n",
       "0       0    0               0         0         0   0    0           0  \n",
       "1       0    0               0         0         0   1    0           0  \n",
       "2       0    0               0         0         0   0    0           0  \n",
       "3       0    0               0         0         0   0    0           0  \n",
       "4       0    0               0         0         0   1    0           0  \n",
       "\n",
       "[5 rows x 3002 columns]"
      ]
     },
     "execution_count": 3,
     "metadata": {},
     "output_type": "execute_result"
    }
   ],
   "source": [
    "emails = pd.read_csv('emails.csv')\n",
    "emails.head()"
   ]
  },
  {
   "cell_type": "code",
   "execution_count": 4,
   "id": "644ad299",
   "metadata": {},
   "outputs": [
    {
     "name": "stdout",
     "output_type": "stream",
     "text": [
      "<class 'pandas.core.frame.DataFrame'>\n",
      "RangeIndex: 5172 entries, 0 to 5171\n",
      "Columns: 3002 entries, Email No. to Prediction\n",
      "dtypes: int64(3001), object(1)\n",
      "memory usage: 118.5+ MB\n"
     ]
    }
   ],
   "source": [
    "emails.info()"
   ]
  },
  {
   "cell_type": "code",
   "execution_count": 5,
   "id": "cacff733",
   "metadata": {},
   "outputs": [
    {
     "data": {
      "text/html": [
       "<div>\n",
       "<style scoped>\n",
       "    .dataframe tbody tr th:only-of-type {\n",
       "        vertical-align: middle;\n",
       "    }\n",
       "\n",
       "    .dataframe tbody tr th {\n",
       "        vertical-align: top;\n",
       "    }\n",
       "\n",
       "    .dataframe thead th {\n",
       "        text-align: right;\n",
       "    }\n",
       "</style>\n",
       "<table border=\"1\" class=\"dataframe\">\n",
       "  <thead>\n",
       "    <tr style=\"text-align: right;\">\n",
       "      <th></th>\n",
       "      <th>the</th>\n",
       "      <th>to</th>\n",
       "      <th>ect</th>\n",
       "      <th>and</th>\n",
       "      <th>for</th>\n",
       "      <th>of</th>\n",
       "      <th>a</th>\n",
       "      <th>you</th>\n",
       "      <th>hou</th>\n",
       "      <th>in</th>\n",
       "      <th>...</th>\n",
       "      <th>connevey</th>\n",
       "      <th>jay</th>\n",
       "      <th>valued</th>\n",
       "      <th>lay</th>\n",
       "      <th>infrastructure</th>\n",
       "      <th>military</th>\n",
       "      <th>allowing</th>\n",
       "      <th>ff</th>\n",
       "      <th>dry</th>\n",
       "      <th>Prediction</th>\n",
       "    </tr>\n",
       "  </thead>\n",
       "  <tbody>\n",
       "    <tr>\n",
       "      <th>count</th>\n",
       "      <td>5172.000000</td>\n",
       "      <td>5172.000000</td>\n",
       "      <td>5172.000000</td>\n",
       "      <td>5172.000000</td>\n",
       "      <td>5172.000000</td>\n",
       "      <td>5172.000000</td>\n",
       "      <td>5172.000000</td>\n",
       "      <td>5172.000000</td>\n",
       "      <td>5172.000000</td>\n",
       "      <td>5172.000000</td>\n",
       "      <td>...</td>\n",
       "      <td>5172.000000</td>\n",
       "      <td>5172.000000</td>\n",
       "      <td>5172.000000</td>\n",
       "      <td>5172.000000</td>\n",
       "      <td>5172.000000</td>\n",
       "      <td>5172.000000</td>\n",
       "      <td>5172.000000</td>\n",
       "      <td>5172.000000</td>\n",
       "      <td>5172.000000</td>\n",
       "      <td>5172.000000</td>\n",
       "    </tr>\n",
       "    <tr>\n",
       "      <th>mean</th>\n",
       "      <td>6.640565</td>\n",
       "      <td>6.188128</td>\n",
       "      <td>5.143852</td>\n",
       "      <td>3.075599</td>\n",
       "      <td>3.124710</td>\n",
       "      <td>2.627030</td>\n",
       "      <td>55.517401</td>\n",
       "      <td>2.466551</td>\n",
       "      <td>2.024362</td>\n",
       "      <td>10.600155</td>\n",
       "      <td>...</td>\n",
       "      <td>0.005027</td>\n",
       "      <td>0.012568</td>\n",
       "      <td>0.010634</td>\n",
       "      <td>0.098028</td>\n",
       "      <td>0.004254</td>\n",
       "      <td>0.006574</td>\n",
       "      <td>0.004060</td>\n",
       "      <td>0.914733</td>\n",
       "      <td>0.006961</td>\n",
       "      <td>0.290023</td>\n",
       "    </tr>\n",
       "    <tr>\n",
       "      <th>std</th>\n",
       "      <td>11.745009</td>\n",
       "      <td>9.534576</td>\n",
       "      <td>14.101142</td>\n",
       "      <td>6.045970</td>\n",
       "      <td>4.680522</td>\n",
       "      <td>6.229845</td>\n",
       "      <td>87.574172</td>\n",
       "      <td>4.314444</td>\n",
       "      <td>6.967878</td>\n",
       "      <td>19.281892</td>\n",
       "      <td>...</td>\n",
       "      <td>0.105788</td>\n",
       "      <td>0.199682</td>\n",
       "      <td>0.116693</td>\n",
       "      <td>0.569532</td>\n",
       "      <td>0.096252</td>\n",
       "      <td>0.138908</td>\n",
       "      <td>0.072145</td>\n",
       "      <td>2.780203</td>\n",
       "      <td>0.098086</td>\n",
       "      <td>0.453817</td>\n",
       "    </tr>\n",
       "    <tr>\n",
       "      <th>min</th>\n",
       "      <td>0.000000</td>\n",
       "      <td>0.000000</td>\n",
       "      <td>1.000000</td>\n",
       "      <td>0.000000</td>\n",
       "      <td>0.000000</td>\n",
       "      <td>0.000000</td>\n",
       "      <td>0.000000</td>\n",
       "      <td>0.000000</td>\n",
       "      <td>0.000000</td>\n",
       "      <td>0.000000</td>\n",
       "      <td>...</td>\n",
       "      <td>0.000000</td>\n",
       "      <td>0.000000</td>\n",
       "      <td>0.000000</td>\n",
       "      <td>0.000000</td>\n",
       "      <td>0.000000</td>\n",
       "      <td>0.000000</td>\n",
       "      <td>0.000000</td>\n",
       "      <td>0.000000</td>\n",
       "      <td>0.000000</td>\n",
       "      <td>0.000000</td>\n",
       "    </tr>\n",
       "    <tr>\n",
       "      <th>25%</th>\n",
       "      <td>0.000000</td>\n",
       "      <td>1.000000</td>\n",
       "      <td>1.000000</td>\n",
       "      <td>0.000000</td>\n",
       "      <td>1.000000</td>\n",
       "      <td>0.000000</td>\n",
       "      <td>12.000000</td>\n",
       "      <td>0.000000</td>\n",
       "      <td>0.000000</td>\n",
       "      <td>1.000000</td>\n",
       "      <td>...</td>\n",
       "      <td>0.000000</td>\n",
       "      <td>0.000000</td>\n",
       "      <td>0.000000</td>\n",
       "      <td>0.000000</td>\n",
       "      <td>0.000000</td>\n",
       "      <td>0.000000</td>\n",
       "      <td>0.000000</td>\n",
       "      <td>0.000000</td>\n",
       "      <td>0.000000</td>\n",
       "      <td>0.000000</td>\n",
       "    </tr>\n",
       "    <tr>\n",
       "      <th>50%</th>\n",
       "      <td>3.000000</td>\n",
       "      <td>3.000000</td>\n",
       "      <td>1.000000</td>\n",
       "      <td>1.000000</td>\n",
       "      <td>2.000000</td>\n",
       "      <td>1.000000</td>\n",
       "      <td>28.000000</td>\n",
       "      <td>1.000000</td>\n",
       "      <td>0.000000</td>\n",
       "      <td>5.000000</td>\n",
       "      <td>...</td>\n",
       "      <td>0.000000</td>\n",
       "      <td>0.000000</td>\n",
       "      <td>0.000000</td>\n",
       "      <td>0.000000</td>\n",
       "      <td>0.000000</td>\n",
       "      <td>0.000000</td>\n",
       "      <td>0.000000</td>\n",
       "      <td>0.000000</td>\n",
       "      <td>0.000000</td>\n",
       "      <td>0.000000</td>\n",
       "    </tr>\n",
       "    <tr>\n",
       "      <th>75%</th>\n",
       "      <td>8.000000</td>\n",
       "      <td>7.000000</td>\n",
       "      <td>4.000000</td>\n",
       "      <td>3.000000</td>\n",
       "      <td>4.000000</td>\n",
       "      <td>2.000000</td>\n",
       "      <td>62.250000</td>\n",
       "      <td>3.000000</td>\n",
       "      <td>1.000000</td>\n",
       "      <td>12.000000</td>\n",
       "      <td>...</td>\n",
       "      <td>0.000000</td>\n",
       "      <td>0.000000</td>\n",
       "      <td>0.000000</td>\n",
       "      <td>0.000000</td>\n",
       "      <td>0.000000</td>\n",
       "      <td>0.000000</td>\n",
       "      <td>0.000000</td>\n",
       "      <td>1.000000</td>\n",
       "      <td>0.000000</td>\n",
       "      <td>1.000000</td>\n",
       "    </tr>\n",
       "    <tr>\n",
       "      <th>max</th>\n",
       "      <td>210.000000</td>\n",
       "      <td>132.000000</td>\n",
       "      <td>344.000000</td>\n",
       "      <td>89.000000</td>\n",
       "      <td>47.000000</td>\n",
       "      <td>77.000000</td>\n",
       "      <td>1898.000000</td>\n",
       "      <td>70.000000</td>\n",
       "      <td>167.000000</td>\n",
       "      <td>223.000000</td>\n",
       "      <td>...</td>\n",
       "      <td>4.000000</td>\n",
       "      <td>7.000000</td>\n",
       "      <td>2.000000</td>\n",
       "      <td>12.000000</td>\n",
       "      <td>3.000000</td>\n",
       "      <td>4.000000</td>\n",
       "      <td>3.000000</td>\n",
       "      <td>114.000000</td>\n",
       "      <td>4.000000</td>\n",
       "      <td>1.000000</td>\n",
       "    </tr>\n",
       "  </tbody>\n",
       "</table>\n",
       "<p>8 rows × 3001 columns</p>\n",
       "</div>"
      ],
      "text/plain": [
       "               the           to          ect          and          for  \\\n",
       "count  5172.000000  5172.000000  5172.000000  5172.000000  5172.000000   \n",
       "mean      6.640565     6.188128     5.143852     3.075599     3.124710   \n",
       "std      11.745009     9.534576    14.101142     6.045970     4.680522   \n",
       "min       0.000000     0.000000     1.000000     0.000000     0.000000   \n",
       "25%       0.000000     1.000000     1.000000     0.000000     1.000000   \n",
       "50%       3.000000     3.000000     1.000000     1.000000     2.000000   \n",
       "75%       8.000000     7.000000     4.000000     3.000000     4.000000   \n",
       "max     210.000000   132.000000   344.000000    89.000000    47.000000   \n",
       "\n",
       "                of            a          you          hou           in  ...  \\\n",
       "count  5172.000000  5172.000000  5172.000000  5172.000000  5172.000000  ...   \n",
       "mean      2.627030    55.517401     2.466551     2.024362    10.600155  ...   \n",
       "std       6.229845    87.574172     4.314444     6.967878    19.281892  ...   \n",
       "min       0.000000     0.000000     0.000000     0.000000     0.000000  ...   \n",
       "25%       0.000000    12.000000     0.000000     0.000000     1.000000  ...   \n",
       "50%       1.000000    28.000000     1.000000     0.000000     5.000000  ...   \n",
       "75%       2.000000    62.250000     3.000000     1.000000    12.000000  ...   \n",
       "max      77.000000  1898.000000    70.000000   167.000000   223.000000  ...   \n",
       "\n",
       "          connevey          jay       valued          lay  infrastructure  \\\n",
       "count  5172.000000  5172.000000  5172.000000  5172.000000     5172.000000   \n",
       "mean      0.005027     0.012568     0.010634     0.098028        0.004254   \n",
       "std       0.105788     0.199682     0.116693     0.569532        0.096252   \n",
       "min       0.000000     0.000000     0.000000     0.000000        0.000000   \n",
       "25%       0.000000     0.000000     0.000000     0.000000        0.000000   \n",
       "50%       0.000000     0.000000     0.000000     0.000000        0.000000   \n",
       "75%       0.000000     0.000000     0.000000     0.000000        0.000000   \n",
       "max       4.000000     7.000000     2.000000    12.000000        3.000000   \n",
       "\n",
       "          military     allowing           ff          dry   Prediction  \n",
       "count  5172.000000  5172.000000  5172.000000  5172.000000  5172.000000  \n",
       "mean      0.006574     0.004060     0.914733     0.006961     0.290023  \n",
       "std       0.138908     0.072145     2.780203     0.098086     0.453817  \n",
       "min       0.000000     0.000000     0.000000     0.000000     0.000000  \n",
       "25%       0.000000     0.000000     0.000000     0.000000     0.000000  \n",
       "50%       0.000000     0.000000     0.000000     0.000000     0.000000  \n",
       "75%       0.000000     0.000000     1.000000     0.000000     1.000000  \n",
       "max       4.000000     3.000000   114.000000     4.000000     1.000000  \n",
       "\n",
       "[8 rows x 3001 columns]"
      ]
     },
     "execution_count": 5,
     "metadata": {},
     "output_type": "execute_result"
    }
   ],
   "source": [
    "emails.describe()"
   ]
  },
  {
   "cell_type": "code",
   "execution_count": 6,
   "id": "a1b308dc",
   "metadata": {},
   "outputs": [
    {
     "name": "stdout",
     "output_type": "stream",
     "text": [
      "False\n"
     ]
    }
   ],
   "source": [
    "print(emails.columns.isnull().any())"
   ]
  },
  {
   "cell_type": "code",
   "execution_count": 7,
   "id": "799b722e",
   "metadata": {},
   "outputs": [
    {
     "name": "stdout",
     "output_type": "stream",
     "text": [
      "Email No.     0\n",
      "the           0\n",
      "to            0\n",
      "ect           0\n",
      "and           0\n",
      "             ..\n",
      "military      0\n",
      "allowing      0\n",
      "ff            0\n",
      "dry           0\n",
      "Prediction    0\n",
      "Length: 3002, dtype: int64\n",
      "total NULL sum: 0\n"
     ]
    }
   ],
   "source": [
    "\n",
    "# Check data completeness\n",
    "print(emails.isna().sum())\n",
    "print(f'total NULL sum: {sum(emails.isna().sum())}')"
   ]
  },
  {
   "cell_type": "code",
   "execution_count": 8,
   "id": "18d6b16e",
   "metadata": {},
   "outputs": [
    {
     "name": "stdout",
     "output_type": "stream",
     "text": [
      "Not Spam: 3672 \n",
      "Spam: 1500\n"
     ]
    },
    {
     "data": {
      "text/plain": [
       "Text(0, 0.5, 'Number of Data points')"
      ]
     },
     "execution_count": 8,
     "metadata": {},
     "output_type": "execute_result"
    },
    {
     "data": {
      "image/png": "[encoded data removed]",
      "text/plain": [
       "<Figure size 1200x800 with 1 Axes>"
      ]
     },
     "metadata": {},
     "output_type": "display_data"
    }
   ],
   "source": [
    "sns.set_theme()\n",
    "print('Not Spam:', len(emails[emails['Prediction'] == 0]), '\\nSpam:', len(emails[emails['Prediction'] == 1]))\n",
    "\n",
    "plt.figure(figsize=(12,8))\n",
    "fg = sns.countplot(x = emails[\"Prediction\"])\n",
    "fg.set_title(\"Count Plot of Classes\", color=\"#58508d\")\n",
    "fg.set_xlabel(\"Classes\", color=\"#58508d\")\n",
    "fg.set_ylabel(\"Number of Data points\", color=\"#58508d\")"
   ]
  },
  {
   "cell_type": "code",
   "execution_count": 9,
   "id": "57070092",
   "metadata": {},
   "outputs": [],
   "source": [
    "labels = emails['Prediction']"
   ]
  },
  {
   "cell_type": "code",
   "execution_count": 10,
   "id": "00473aed",
   "metadata": {},
   "outputs": [
    {
     "data": {
      "text/html": [
       "<div>\n",
       "<style scoped>\n",
       "    .dataframe tbody tr th:only-of-type {\n",
       "        vertical-align: middle;\n",
       "    }\n",
       "\n",
       "    .dataframe tbody tr th {\n",
       "        vertical-align: top;\n",
       "    }\n",
       "\n",
       "    .dataframe thead th {\n",
       "        text-align: right;\n",
       "    }\n",
       "</style>\n",
       "<table border=\"1\" class=\"dataframe\">\n",
       "  <thead>\n",
       "    <tr style=\"text-align: right;\">\n",
       "      <th></th>\n",
       "      <th>the</th>\n",
       "      <th>to</th>\n",
       "      <th>ect</th>\n",
       "      <th>and</th>\n",
       "      <th>for</th>\n",
       "      <th>of</th>\n",
       "      <th>a</th>\n",
       "      <th>you</th>\n",
       "      <th>hou</th>\n",
       "      <th>in</th>\n",
       "      <th>...</th>\n",
       "      <th>enhancements</th>\n",
       "      <th>connevey</th>\n",
       "      <th>jay</th>\n",
       "      <th>valued</th>\n",
       "      <th>lay</th>\n",
       "      <th>infrastructure</th>\n",
       "      <th>military</th>\n",
       "      <th>allowing</th>\n",
       "      <th>ff</th>\n",
       "      <th>dry</th>\n",
       "    </tr>\n",
       "  </thead>\n",
       "  <tbody>\n",
       "    <tr>\n",
       "      <th>0</th>\n",
       "      <td>0</td>\n",
       "      <td>0</td>\n",
       "      <td>1</td>\n",
       "      <td>0</td>\n",
       "      <td>0</td>\n",
       "      <td>0</td>\n",
       "      <td>2</td>\n",
       "      <td>0</td>\n",
       "      <td>0</td>\n",
       "      <td>0</td>\n",
       "      <td>...</td>\n",
       "      <td>0</td>\n",
       "      <td>0</td>\n",
       "      <td>0</td>\n",
       "      <td>0</td>\n",
       "      <td>0</td>\n",
       "      <td>0</td>\n",
       "      <td>0</td>\n",
       "      <td>0</td>\n",
       "      <td>0</td>\n",
       "      <td>0</td>\n",
       "    </tr>\n",
       "    <tr>\n",
       "      <th>1</th>\n",
       "      <td>8</td>\n",
       "      <td>13</td>\n",
       "      <td>24</td>\n",
       "      <td>6</td>\n",
       "      <td>6</td>\n",
       "      <td>2</td>\n",
       "      <td>102</td>\n",
       "      <td>1</td>\n",
       "      <td>27</td>\n",
       "      <td>18</td>\n",
       "      <td>...</td>\n",
       "      <td>0</td>\n",
       "      <td>0</td>\n",
       "      <td>0</td>\n",
       "      <td>0</td>\n",
       "      <td>0</td>\n",
       "      <td>0</td>\n",
       "      <td>0</td>\n",
       "      <td>0</td>\n",
       "      <td>1</td>\n",
       "      <td>0</td>\n",
       "    </tr>\n",
       "    <tr>\n",
       "      <th>2</th>\n",
       "      <td>0</td>\n",
       "      <td>0</td>\n",
       "      <td>1</td>\n",
       "      <td>0</td>\n",
       "      <td>0</td>\n",
       "      <td>0</td>\n",
       "      <td>8</td>\n",
       "      <td>0</td>\n",
       "      <td>0</td>\n",
       "      <td>4</td>\n",
       "      <td>...</td>\n",
       "      <td>0</td>\n",
       "      <td>0</td>\n",
       "      <td>0</td>\n",
       "      <td>0</td>\n",
       "      <td>0</td>\n",
       "      <td>0</td>\n",
       "      <td>0</td>\n",
       "      <td>0</td>\n",
       "      <td>0</td>\n",
       "      <td>0</td>\n",
       "    </tr>\n",
       "    <tr>\n",
       "      <th>3</th>\n",
       "      <td>0</td>\n",
       "      <td>5</td>\n",
       "      <td>22</td>\n",
       "      <td>0</td>\n",
       "      <td>5</td>\n",
       "      <td>1</td>\n",
       "      <td>51</td>\n",
       "      <td>2</td>\n",
       "      <td>10</td>\n",
       "      <td>1</td>\n",
       "      <td>...</td>\n",
       "      <td>0</td>\n",
       "      <td>0</td>\n",
       "      <td>0</td>\n",
       "      <td>0</td>\n",
       "      <td>0</td>\n",
       "      <td>0</td>\n",
       "      <td>0</td>\n",
       "      <td>0</td>\n",
       "      <td>0</td>\n",
       "      <td>0</td>\n",
       "    </tr>\n",
       "    <tr>\n",
       "      <th>4</th>\n",
       "      <td>7</td>\n",
       "      <td>6</td>\n",
       "      <td>17</td>\n",
       "      <td>1</td>\n",
       "      <td>5</td>\n",
       "      <td>2</td>\n",
       "      <td>57</td>\n",
       "      <td>0</td>\n",
       "      <td>9</td>\n",
       "      <td>3</td>\n",
       "      <td>...</td>\n",
       "      <td>0</td>\n",
       "      <td>0</td>\n",
       "      <td>0</td>\n",
       "      <td>0</td>\n",
       "      <td>0</td>\n",
       "      <td>0</td>\n",
       "      <td>0</td>\n",
       "      <td>0</td>\n",
       "      <td>1</td>\n",
       "      <td>0</td>\n",
       "    </tr>\n",
       "    <tr>\n",
       "      <th>...</th>\n",
       "      <td>...</td>\n",
       "      <td>...</td>\n",
       "      <td>...</td>\n",
       "      <td>...</td>\n",
       "      <td>...</td>\n",
       "      <td>...</td>\n",
       "      <td>...</td>\n",
       "      <td>...</td>\n",
       "      <td>...</td>\n",
       "      <td>...</td>\n",
       "      <td>...</td>\n",
       "      <td>...</td>\n",
       "      <td>...</td>\n",
       "      <td>...</td>\n",
       "      <td>...</td>\n",
       "      <td>...</td>\n",
       "      <td>...</td>\n",
       "      <td>...</td>\n",
       "      <td>...</td>\n",
       "      <td>...</td>\n",
       "      <td>...</td>\n",
       "    </tr>\n",
       "    <tr>\n",
       "      <th>5167</th>\n",
       "      <td>2</td>\n",
       "      <td>2</td>\n",
       "      <td>2</td>\n",
       "      <td>3</td>\n",
       "      <td>0</td>\n",
       "      <td>0</td>\n",
       "      <td>32</td>\n",
       "      <td>0</td>\n",
       "      <td>0</td>\n",
       "      <td>5</td>\n",
       "      <td>...</td>\n",
       "      <td>0</td>\n",
       "      <td>0</td>\n",
       "      <td>0</td>\n",
       "      <td>0</td>\n",
       "      <td>0</td>\n",
       "      <td>0</td>\n",
       "      <td>0</td>\n",
       "      <td>0</td>\n",
       "      <td>0</td>\n",
       "      <td>0</td>\n",
       "    </tr>\n",
       "    <tr>\n",
       "      <th>5168</th>\n",
       "      <td>35</td>\n",
       "      <td>27</td>\n",
       "      <td>11</td>\n",
       "      <td>2</td>\n",
       "      <td>6</td>\n",
       "      <td>5</td>\n",
       "      <td>151</td>\n",
       "      <td>4</td>\n",
       "      <td>3</td>\n",
       "      <td>23</td>\n",
       "      <td>...</td>\n",
       "      <td>0</td>\n",
       "      <td>0</td>\n",
       "      <td>0</td>\n",
       "      <td>0</td>\n",
       "      <td>0</td>\n",
       "      <td>0</td>\n",
       "      <td>0</td>\n",
       "      <td>0</td>\n",
       "      <td>1</td>\n",
       "      <td>0</td>\n",
       "    </tr>\n",
       "    <tr>\n",
       "      <th>5169</th>\n",
       "      <td>0</td>\n",
       "      <td>0</td>\n",
       "      <td>1</td>\n",
       "      <td>1</td>\n",
       "      <td>0</td>\n",
       "      <td>0</td>\n",
       "      <td>11</td>\n",
       "      <td>0</td>\n",
       "      <td>0</td>\n",
       "      <td>1</td>\n",
       "      <td>...</td>\n",
       "      <td>0</td>\n",
       "      <td>0</td>\n",
       "      <td>0</td>\n",
       "      <td>0</td>\n",
       "      <td>0</td>\n",
       "      <td>0</td>\n",
       "      <td>0</td>\n",
       "      <td>0</td>\n",
       "      <td>0</td>\n",
       "      <td>0</td>\n",
       "    </tr>\n",
       "    <tr>\n",
       "      <th>5170</th>\n",
       "      <td>2</td>\n",
       "      <td>7</td>\n",
       "      <td>1</td>\n",
       "      <td>0</td>\n",
       "      <td>2</td>\n",
       "      <td>1</td>\n",
       "      <td>28</td>\n",
       "      <td>2</td>\n",
       "      <td>0</td>\n",
       "      <td>8</td>\n",
       "      <td>...</td>\n",
       "      <td>0</td>\n",
       "      <td>0</td>\n",
       "      <td>0</td>\n",
       "      <td>0</td>\n",
       "      <td>0</td>\n",
       "      <td>0</td>\n",
       "      <td>0</td>\n",
       "      <td>0</td>\n",
       "      <td>1</td>\n",
       "      <td>0</td>\n",
       "    </tr>\n",
       "    <tr>\n",
       "      <th>5171</th>\n",
       "      <td>22</td>\n",
       "      <td>24</td>\n",
       "      <td>5</td>\n",
       "      <td>1</td>\n",
       "      <td>6</td>\n",
       "      <td>5</td>\n",
       "      <td>148</td>\n",
       "      <td>8</td>\n",
       "      <td>2</td>\n",
       "      <td>23</td>\n",
       "      <td>...</td>\n",
       "      <td>0</td>\n",
       "      <td>0</td>\n",
       "      <td>0</td>\n",
       "      <td>0</td>\n",
       "      <td>0</td>\n",
       "      <td>0</td>\n",
       "      <td>0</td>\n",
       "      <td>0</td>\n",
       "      <td>0</td>\n",
       "      <td>0</td>\n",
       "    </tr>\n",
       "  </tbody>\n",
       "</table>\n",
       "<p>5172 rows × 3000 columns</p>\n",
       "</div>"
      ],
      "text/plain": [
       "      the  to  ect  and  for  of    a  you  hou  in  ...  enhancements  \\\n",
       "0       0   0    1    0    0   0    2    0    0   0  ...             0   \n",
       "1       8  13   24    6    6   2  102    1   27  18  ...             0   \n",
       "2       0   0    1    0    0   0    8    0    0   4  ...             0   \n",
       "3       0   5   22    0    5   1   51    2   10   1  ...             0   \n",
       "4       7   6   17    1    5   2   57    0    9   3  ...             0   \n",
       "...   ...  ..  ...  ...  ...  ..  ...  ...  ...  ..  ...           ...   \n",
       "5167    2   2    2    3    0   0   32    0    0   5  ...             0   \n",
       "5168   35  27   11    2    6   5  151    4    3  23  ...             0   \n",
       "5169    0   0    1    1    0   0   11    0    0   1  ...             0   \n",
       "5170    2   7    1    0    2   1   28    2    0   8  ...             0   \n",
       "5171   22  24    5    1    6   5  148    8    2  23  ...             0   \n",
       "\n",
       "      connevey  jay  valued  lay  infrastructure  military  allowing  ff  dry  \n",
       "0            0    0       0    0               0         0         0   0    0  \n",
       "1            0    0       0    0               0         0         0   1    0  \n",
       "2            0    0       0    0               0         0         0   0    0  \n",
       "3            0    0       0    0               0         0         0   0    0  \n",
       "4            0    0       0    0               0         0         0   1    0  \n",
       "...        ...  ...     ...  ...             ...       ...       ...  ..  ...  \n",
       "5167         0    0       0    0               0         0         0   0    0  \n",
       "5168         0    0       0    0               0         0         0   1    0  \n",
       "5169         0    0       0    0               0         0         0   0    0  \n",
       "5170         0    0       0    0               0         0         0   1    0  \n",
       "5171         0    0       0    0               0         0         0   0    0  \n",
       "\n",
       "[5172 rows x 3000 columns]"
      ]
     },
     "execution_count": 10,
     "metadata": {},
     "output_type": "execute_result"
    }
   ],
   "source": [
    "emails = emails.drop(['Email No.', 'Prediction'], axis=1)\n",
    "emails"
   ]
  },
  {
   "cell_type": "code",
   "execution_count": 11,
   "id": "c6ee5e53",
   "metadata": {},
   "outputs": [
    {
     "data": {
      "text/plain": [
       "(5172, 3000)"
      ]
     },
     "execution_count": 11,
     "metadata": {},
     "output_type": "execute_result"
    }
   ],
   "source": [
    "n_rows=emails.shape[0]\n",
    "n_cols=emails.shape[1]\n",
    "emails.shape # initial shape"
   ]
  },
  {
   "cell_type": "markdown",
   "id": "7b3e8791",
   "metadata": {},
   "source": [
    "\n",
    "## 1.1 Harmonise letter case "
   ]
  },
  {
   "cell_type": "markdown",
   "id": "78302f8e",
   "metadata": {},
   "source": [
    "\n",
    "We parse words into lowercase format (be sure that all words are lowercase)."
   ]
  },
  {
   "cell_type": "code",
   "execution_count": 12,
   "id": "3f0fcc79",
   "metadata": {},
   "outputs": [],
   "source": [
    "for column in emails.columns:\n",
    "    if column.islower() == False:\n",
    "        emails.rename(column, column.lowercase())\n",
    "        print(column)"
   ]
  },
  {
   "cell_type": "markdown",
   "id": "d2659bdc",
   "metadata": {},
   "source": [
    "## 1.2 Remove numbers, symbols and non alphabetic characters"
   ]
  },
  {
   "cell_type": "code",
   "execution_count": 13,
   "id": "2c793516",
   "metadata": {},
   "outputs": [],
   "source": [
    "for column in emails.columns:\n",
    "    if column.isnumeric() or column.isdigit() or column.isalpha() == False:\n",
    "        emails.drop(column, inplace=True, axis=1)\n",
    "        print(column)"
   ]
  },
  {
   "cell_type": "markdown",
   "id": "9519e0bd",
   "metadata": {},
   "source": [
    "Words don't contain any numbers or specific symbols."
   ]
  },
  {
   "cell_type": "markdown",
   "id": "be8bc1e6",
   "metadata": {},
   "source": [
    "\n",
    "## 1.3 Are words unique?"
   ]
  },
  {
   "cell_type": "code",
   "execution_count": 14,
   "id": "3fde00f9",
   "metadata": {
    "scrolled": true
   },
   "outputs": [
    {
     "data": {
      "text/plain": [
       "True"
      ]
     },
     "execution_count": 14,
     "metadata": {},
     "output_type": "execute_result"
    }
   ],
   "source": [
    "len(set(emails.columns)) == len(emails.columns)"
   ]
  },
  {
   "cell_type": "markdown",
   "id": "eb2b3797",
   "metadata": {},
   "source": [
    "\n",
    "## 1.4 Remove the most common words (\"stopwords\")"
   ]
  },
  {
   "cell_type": "code",
   "execution_count": 15,
   "id": "edf07dd1",
   "metadata": {},
   "outputs": [],
   "source": [
    "stop_words = set(stopwords.words('english'))"
   ]
  },
  {
   "cell_type": "code",
   "execution_count": 16,
   "id": "51be8a76",
   "metadata": {},
   "outputs": [],
   "source": [
    "for column in emails.columns:\n",
    "    if column in stop_words:\n",
    "        emails.drop(column, inplace=True, axis=1)\n",
    "        "
   ]
  },
  {
   "cell_type": "code",
   "execution_count": 17,
   "id": "0cb46fbc",
   "metadata": {},
   "outputs": [
    {
     "data": {
      "text/plain": [
       "(5172, 2866)"
      ]
     },
     "execution_count": 17,
     "metadata": {},
     "output_type": "execute_result"
    }
   ],
   "source": [
    "emails.shape # the shape after removing the stepwords"
   ]
  },
  {
   "cell_type": "markdown",
   "id": "9bdb569a",
   "metadata": {},
   "source": [
    "\n",
    "## 1.5 Remove all words that are contain n characters"
   ]
  },
  {
   "cell_type": "markdown",
   "id": "25bccc6d",
   "metadata": {},
   "source": [
    "For defining the lenght of words that are too short for using in our model we will check the frequency of words of different lenghts. Let's call it \"length analise of words\". \n",
    "\n",
    "Let's try all words of length less than 8 symbols. According to the list of preposition in english the most common maximum lenght of word is 8 symbols."
   ]
  },
  {
   "cell_type": "code",
   "execution_count": 18,
   "id": "85d563df",
   "metadata": {},
   "outputs": [],
   "source": [
    "def frequency(emails):\n",
    "    freq = dict()\n",
    "    for word in emails:\n",
    "        freq[word] = emails[word].sum()\n",
    "    for word, appearence in freq.items():\n",
    "        freq[word] = appearence/emails.shape[0]\n",
    "\n",
    "    return freq\n",
    "\n",
    "words_frequency = frequency(emails)"
   ]
  },
  {
   "cell_type": "code",
   "execution_count": 19,
   "id": "c24dbc85",
   "metadata": {},
   "outputs": [
    {
     "name": "stdout",
     "output_type": "stream",
     "text": [
      "The mean of frequencies: 0.23837910289394676\n",
      "The max of frequencies: 84.79524361948955\n"
     ]
    }
   ],
   "source": [
    "freqs = list(words_frequency.values())\n",
    "def mean_max(lst):\n",
    "    mean_lst = sum(lst)/len(lst)\n",
    "    max_lst = np.max(lst)\n",
    "    return mean_lst, max_lst\n",
    "\n",
    "mean_freq, max_freq = mean_max(freqs)\n",
    "print(f\"The mean of frequencies: {mean_freq}\")\n",
    "print(f\"The max of frequencies: {max_freq}\")"
   ]
  },
  {
   "cell_type": "code",
   "execution_count": 20,
   "id": "dffce076",
   "metadata": {},
   "outputs": [],
   "source": [
    "def words_of_lenght_of_n(words_frequency, n):\n",
    "    words_n = dict()\n",
    "    for word, fr in words_frequency.items():\n",
    "        if len(word) == n:\n",
    "            words_n[word] = fr\n",
    "    return words_n"
   ]
  },
  {
   "cell_type": "code",
   "execution_count": 21,
   "id": "7aa844e6",
   "metadata": {},
   "outputs": [],
   "source": [
    "freq_of_prepositions = dict()\n",
    "for i in range(1, 8+1):\n",
    "    freq_of_prepositions[str(i)] = dict()\n",
    "\n",
    "for n in freq_of_prepositions.keys():\n",
    "    freq_of_prepositions[n] = words_of_lenght_of_n(words_frequency, int(n))"
   ]
  },
  {
   "cell_type": "code",
   "execution_count": 22,
   "id": "3fdad258",
   "metadata": {
    "scrolled": true
   },
   "outputs": [
    {
     "name": "stdout",
     "output_type": "stream",
     "text": [
      "For words with length of n = 1: mean = 21.102002234252808; max = 84.79524361948955\n",
      "For words with length of n = 2: mean = 1.621290957402005; max = 12.501160092807424\n",
      "For words with length of n = 3: mean = 0.22583945604537245; max = 5.143851508120649\n",
      "For words with length of n = 4: mean = 0.06718433622093452; max = 0.7345320959010054\n",
      "For words with length of n = 5: mean = 0.04160151652711929; max = 1.3352668213457077\n",
      "For words with length of n = 6: mean = 0.029765161416697897; max = 0.6278035576179428\n",
      "For words with length of n = 7: mean = 0.026875483372003038; max = 0.5593580819798917\n",
      "For words with length of n = 8: mean = 0.020571214572034313; max = 0.23723897911832947\n"
     ]
    }
   ],
   "source": [
    "mean_n1, max_n1 = mean_max(list(freq_of_prepositions[str(1)].values()))\n",
    "mean_n2, max_n2 = mean_max(list(freq_of_prepositions[str(2)].values()))\n",
    "mean_n3, max_n3 = mean_max(list(freq_of_prepositions[str(3)].values()))\n",
    "mean_n4, max_n4 = mean_max(list(freq_of_prepositions[str(4)].values()))\n",
    "mean_n5, max_n5 = mean_max(list(freq_of_prepositions[str(5)].values()))\n",
    "mean_n6, max_n6 = mean_max(list(freq_of_prepositions[str(6)].values()))\n",
    "mean_n7, max_n7 = mean_max(list(freq_of_prepositions[str(7)].values()))\n",
    "mean_n8, max_n8 = mean_max(list(freq_of_prepositions[str(8)].values()))\n",
    "\n",
    "print(f\"For words with length of n = 1: mean = {mean_n1}; max = {max_n1}\")\n",
    "print(f\"For words with length of n = 2: mean = {mean_n2}; max = {max_n2}\")\n",
    "print(f\"For words with length of n = 3: mean = {mean_n3}; max = {max_n3}\")\n",
    "print(f\"For words with length of n = 4: mean = {mean_n4}; max = {max_n4}\")\n",
    "print(f\"For words with length of n = 5: mean = {mean_n5}; max = {max_n5}\")\n",
    "print(f\"For words with length of n = 6: mean = {mean_n6}; max = {max_n6}\")\n",
    "print(f\"For words with length of n = 7: mean = {mean_n7}; max = {max_n7}\")\n",
    "print(f\"For words with length of n = 8: mean = {mean_n8}; max = {max_n8}\")"
   ]
  },
  {
   "cell_type": "code",
   "execution_count": 23,
   "id": "65ae418a",
   "metadata": {},
   "outputs": [
    {
     "data": {
      "text/plain": [
       "<BarContainer object of 8 artists>"
      ]
     },
     "execution_count": 23,
     "metadata": {},
     "output_type": "execute_result"
    },
    {
     "data": {
      "image/png": "[encoded data removed]",
      "text/plain": [
       "<Figure size 640x480 with 1 Axes>"
      ]
     },
     "metadata": {},
     "output_type": "display_data"
    }
   ],
   "source": [
    "means = [mean_n1,mean_n2,mean_n3,mean_n4,mean_n5,mean_n6,mean_n7,mean_n8]\n",
    "plt.bar(range(1, 8+1), means)"
   ]
  },
  {
   "cell_type": "markdown",
   "id": "939e7f1f",
   "metadata": {},
   "source": [
    "As we see the most common words have length from 1 to 3. We originally thought about removing these words, but found that doing so made the results worse. In conclusion, we have removed only those of length 1 to avoid **loss of information**."
   ]
  },
  {
   "cell_type": "code",
   "execution_count": 24,
   "id": "8705de1f",
   "metadata": {},
   "outputs": [
    {
     "data": {
      "text/plain": [
       "(5172, 2848)"
      ]
     },
     "execution_count": 24,
     "metadata": {},
     "output_type": "execute_result"
    }
   ],
   "source": [
    "for column in emails.columns:\n",
    "    if len(column) == 1:\n",
    "        emails.drop(column, inplace=True, axis=1)\n",
    "        \n",
    "emails.shape"
   ]
  },
  {
   "cell_type": "markdown",
   "id": "6f14637e",
   "metadata": {},
   "source": [
    "As a result of \"cleaning process\" we dropped 3000-2848=152 words"
   ]
  },
  {
   "cell_type": "markdown",
   "id": "6e9b1737",
   "metadata": {},
   "source": [
    "***SPACY LIBRARY FOR TEXT PROCESSING***"
   ]
  },
  {
   "cell_type": "code",
   "execution_count": 25,
   "id": "1484f5fc",
   "metadata": {},
   "outputs": [],
   "source": [
    "import spacy\n",
    "nlp = spacy.load('en_core_web_sm')"
   ]
  },
  {
   "cell_type": "markdown",
   "id": "41b4bbb5",
   "metadata": {},
   "source": [
    "**Tokenization**"
   ]
  },
  {
   "cell_type": "code",
   "execution_count": 26,
   "id": "b28acb53",
   "metadata": {},
   "outputs": [
    {
     "name": "stdout",
     "output_type": "stream",
     "text": [
      "Number of stop words from spaCy library = 127\n",
      "Number of punctuation synbols from spaCy library = 0\n",
      "Number of spaces from spaCy library = 0\n"
     ]
    }
   ],
   "source": [
    "words = nlp(\" \".join(emails.columns))\n",
    "token_is_stop = []\n",
    "token_is_punct = []\n",
    "token_is_space = []\n",
    "for token in words: \n",
    "    if token.is_stop: token_is_stop.append(str(token))\n",
    "    if token.is_punct: token_is_punct.append(str(token))\n",
    "    if token.is_space: token_is_space.append(str(token))\n",
    "    # print(token, token.idx, token.text_with_ws,\n",
    "    #       token.is_alpha, token.is_punct, token.is_space,\n",
    "    #       token.shape_, token.is_stop)\n",
    "    \n",
    "print(f\"Number of stop words from spaCy library = {len(token_is_stop)}\")\n",
    "print(f\"Number of punctuation synbols from spaCy library = {len(token_is_punct)}\")\n",
    "print(f\"Number of spaces from spaCy library = {len(token_is_space)}\")"
   ]
  },
  {
   "cell_type": "markdown",
   "id": "992a9dd7",
   "metadata": {},
   "source": [
    "Accoring to results dataset has already cleaned of of spaces and punctuation symbols. Also was detected 127 stop words."
   ]
  },
  {
   "cell_type": "code",
   "execution_count": 27,
   "id": "b2ab6f6f",
   "metadata": {},
   "outputs": [
    {
     "data": {
      "text/plain": [
       "(5172, 2726)"
      ]
     },
     "execution_count": 27,
     "metadata": {},
     "output_type": "execute_result"
    }
   ],
   "source": [
    "# dropping stop words from spaCy\n",
    "for column in emails.columns[:-1]:\n",
    "    if column in token_is_stop:\n",
    "        emails.drop(column, inplace=True, axis=1)\n",
    "        \n",
    "emails.shape"
   ]
  },
  {
   "cell_type": "markdown",
   "id": "d08bb358",
   "metadata": {},
   "source": [
    "\n",
    "We have to check if all stop words are dropped."
   ]
  },
  {
   "cell_type": "code",
   "execution_count": 28,
   "id": "718007c1",
   "metadata": {},
   "outputs": [
    {
     "name": "stdout",
     "output_type": "stream",
     "text": [
      "i 1372 i True False False x True\n",
      "\"['i'] not found in axis\"\n",
      "i 2789 i True False False x True\n",
      "\"['i'] not found in axis\"\n",
      "can 3612 can True False False xxx True\n",
      "\"['can'] not found in axis\"\n",
      "not 3615 not  True False False xxx True\n",
      "\"['not'] not found in axis\"\n",
      "we 10819 we True False False xx True\n",
      "\"['we'] not found in axis\"\n"
     ]
    }
   ],
   "source": [
    "spacy_stopwords = spacy.lang.en.stop_words.STOP_WORDS\n",
    "for token in nlp(\" \".join(emails.columns)):\n",
    "    if token.is_stop: \n",
    "        print(token, token.idx, token.text_with_ws,\n",
    "          token.is_alpha, token.is_punct, token.is_space,\n",
    "          token.shape_, token.is_stop)\n",
    "        \n",
    "        try: \n",
    "            emails.drop([token.text], inplace=True, axis=1)\n",
    "        except Exception as e:\n",
    "            print(e)"
   ]
  },
  {
   "cell_type": "markdown",
   "id": "13baccaf",
   "metadata": {},
   "source": [
    "**Lemmatization**"
   ]
  },
  {
   "cell_type": "markdown",
   "id": "3e81a53b",
   "metadata": {},
   "source": [
    "The library spiCy provides good lemmatization engine that we can use for reducing number of features by its lemmas"
   ]
  },
  {
   "cell_type": "code",
   "execution_count": 29,
   "id": "b05f909e",
   "metadata": {},
   "outputs": [
    {
     "name": "stdout",
     "output_type": "stream",
     "text": [
      "Number of features before lemmatization = 2730\n"
     ]
    }
   ],
   "source": [
    "n_features_before_lemmatization = len(nlp(\" \".join(emails.columns)))\n",
    "print(f\"Number of features before lemmatization = {n_features_before_lemmatization}\")"
   ]
  },
  {
   "cell_type": "code",
   "execution_count": 30,
   "id": "4a90b18f",
   "metadata": {},
   "outputs": [
    {
     "name": "stdout",
     "output_type": "stream",
     "text": [
      "Number of features after lemmatization = 2232\n"
     ]
    }
   ],
   "source": [
    "lemmas = dict()\n",
    "for token in nlp(\" \".join(emails.columns)):\n",
    "    if token.lemma_ not in lemmas.keys():\n",
    "        lemmas[token.lemma_] = []\n",
    "    lemmas[token.lemma_].append(token.text)\n",
    "    # print(token, token.lemma_)\n",
    "    \n",
    "print(f\"Number of features after lemmatization = {len(lemmas.keys())}\")"
   ]
  },
  {
   "cell_type": "markdown",
   "id": "dd5c3013",
   "metadata": {},
   "source": [
    "\n",
    "\n",
    "**Grouping by lemmas**"
   ]
  },
  {
   "cell_type": "code",
   "execution_count": 31,
   "id": "9d368380",
   "metadata": {},
   "outputs": [],
   "source": [
    "lemmas_2={}\n",
    "for key, values in lemmas.items():\n",
    "    for value in values:\n",
    "        lemmas_2[value]= key"
   ]
  },
  {
   "cell_type": "code",
   "execution_count": 32,
   "id": "8f2642ae",
   "metadata": {},
   "outputs": [
    {
     "name": "stdout",
     "output_type": "stream",
     "text": [
      "2728\n"
     ]
    }
   ],
   "source": [
    "print(len(lemmas_2.keys()))"
   ]
  },
  {
   "cell_type": "code",
   "execution_count": 33,
   "id": "0ea785af",
   "metadata": {},
   "outputs": [],
   "source": [
    "emails = emails.groupby(lemmas_2, axis = 1).sum()"
   ]
  },
  {
   "cell_type": "code",
   "execution_count": 34,
   "id": "8b7cb375",
   "metadata": {},
   "outputs": [
    {
     "data": {
      "text/html": [
       "<div>\n",
       "<style scoped>\n",
       "    .dataframe tbody tr th:only-of-type {\n",
       "        vertical-align: middle;\n",
       "    }\n",
       "\n",
       "    .dataframe tbody tr th {\n",
       "        vertical-align: top;\n",
       "    }\n",
       "\n",
       "    .dataframe thead th {\n",
       "        text-align: right;\n",
       "    }\n",
       "</style>\n",
       "<table border=\"1\" class=\"dataframe\">\n",
       "  <thead>\n",
       "    <tr style=\"text-align: right;\">\n",
       "      <th></th>\n",
       "      <th>abdv</th>\n",
       "      <th>ability</th>\n",
       "      <th>able</th>\n",
       "      <th>ac</th>\n",
       "      <th>accept</th>\n",
       "      <th>acceptance</th>\n",
       "      <th>access</th>\n",
       "      <th>accord</th>\n",
       "      <th>account</th>\n",
       "      <th>accountant</th>\n",
       "      <th>...</th>\n",
       "      <th>yes</th>\n",
       "      <th>yesterday</th>\n",
       "      <th>york</th>\n",
       "      <th>young</th>\n",
       "      <th>yvette</th>\n",
       "      <th>zajac</th>\n",
       "      <th>zero</th>\n",
       "      <th>zivley</th>\n",
       "      <th>zone</th>\n",
       "      <th>zonedubai</th>\n",
       "    </tr>\n",
       "  </thead>\n",
       "  <tbody>\n",
       "    <tr>\n",
       "      <th>0</th>\n",
       "      <td>0</td>\n",
       "      <td>0</td>\n",
       "      <td>0</td>\n",
       "      <td>0</td>\n",
       "      <td>0</td>\n",
       "      <td>0</td>\n",
       "      <td>0</td>\n",
       "      <td>0</td>\n",
       "      <td>0</td>\n",
       "      <td>0</td>\n",
       "      <td>...</td>\n",
       "      <td>0</td>\n",
       "      <td>0</td>\n",
       "      <td>0</td>\n",
       "      <td>0</td>\n",
       "      <td>0</td>\n",
       "      <td>0</td>\n",
       "      <td>0</td>\n",
       "      <td>0</td>\n",
       "      <td>0</td>\n",
       "      <td>0</td>\n",
       "    </tr>\n",
       "    <tr>\n",
       "      <th>1</th>\n",
       "      <td>0</td>\n",
       "      <td>0</td>\n",
       "      <td>0</td>\n",
       "      <td>3</td>\n",
       "      <td>0</td>\n",
       "      <td>0</td>\n",
       "      <td>0</td>\n",
       "      <td>0</td>\n",
       "      <td>0</td>\n",
       "      <td>0</td>\n",
       "      <td>...</td>\n",
       "      <td>0</td>\n",
       "      <td>0</td>\n",
       "      <td>0</td>\n",
       "      <td>0</td>\n",
       "      <td>0</td>\n",
       "      <td>0</td>\n",
       "      <td>0</td>\n",
       "      <td>0</td>\n",
       "      <td>0</td>\n",
       "      <td>0</td>\n",
       "    </tr>\n",
       "    <tr>\n",
       "      <th>2</th>\n",
       "      <td>0</td>\n",
       "      <td>0</td>\n",
       "      <td>0</td>\n",
       "      <td>0</td>\n",
       "      <td>0</td>\n",
       "      <td>0</td>\n",
       "      <td>0</td>\n",
       "      <td>0</td>\n",
       "      <td>0</td>\n",
       "      <td>0</td>\n",
       "      <td>...</td>\n",
       "      <td>0</td>\n",
       "      <td>0</td>\n",
       "      <td>0</td>\n",
       "      <td>0</td>\n",
       "      <td>0</td>\n",
       "      <td>0</td>\n",
       "      <td>0</td>\n",
       "      <td>0</td>\n",
       "      <td>0</td>\n",
       "      <td>0</td>\n",
       "    </tr>\n",
       "    <tr>\n",
       "      <th>3</th>\n",
       "      <td>0</td>\n",
       "      <td>0</td>\n",
       "      <td>0</td>\n",
       "      <td>7</td>\n",
       "      <td>0</td>\n",
       "      <td>0</td>\n",
       "      <td>0</td>\n",
       "      <td>0</td>\n",
       "      <td>1</td>\n",
       "      <td>0</td>\n",
       "      <td>...</td>\n",
       "      <td>1</td>\n",
       "      <td>1</td>\n",
       "      <td>0</td>\n",
       "      <td>0</td>\n",
       "      <td>0</td>\n",
       "      <td>0</td>\n",
       "      <td>0</td>\n",
       "      <td>0</td>\n",
       "      <td>0</td>\n",
       "      <td>0</td>\n",
       "    </tr>\n",
       "    <tr>\n",
       "      <th>4</th>\n",
       "      <td>0</td>\n",
       "      <td>0</td>\n",
       "      <td>0</td>\n",
       "      <td>4</td>\n",
       "      <td>0</td>\n",
       "      <td>0</td>\n",
       "      <td>0</td>\n",
       "      <td>0</td>\n",
       "      <td>0</td>\n",
       "      <td>0</td>\n",
       "      <td>...</td>\n",
       "      <td>0</td>\n",
       "      <td>0</td>\n",
       "      <td>0</td>\n",
       "      <td>0</td>\n",
       "      <td>0</td>\n",
       "      <td>0</td>\n",
       "      <td>0</td>\n",
       "      <td>0</td>\n",
       "      <td>0</td>\n",
       "      <td>0</td>\n",
       "    </tr>\n",
       "    <tr>\n",
       "      <th>...</th>\n",
       "      <td>...</td>\n",
       "      <td>...</td>\n",
       "      <td>...</td>\n",
       "      <td>...</td>\n",
       "      <td>...</td>\n",
       "      <td>...</td>\n",
       "      <td>...</td>\n",
       "      <td>...</td>\n",
       "      <td>...</td>\n",
       "      <td>...</td>\n",
       "      <td>...</td>\n",
       "      <td>...</td>\n",
       "      <td>...</td>\n",
       "      <td>...</td>\n",
       "      <td>...</td>\n",
       "      <td>...</td>\n",
       "      <td>...</td>\n",
       "      <td>...</td>\n",
       "      <td>...</td>\n",
       "      <td>...</td>\n",
       "      <td>...</td>\n",
       "    </tr>\n",
       "    <tr>\n",
       "      <th>5167</th>\n",
       "      <td>0</td>\n",
       "      <td>0</td>\n",
       "      <td>0</td>\n",
       "      <td>4</td>\n",
       "      <td>0</td>\n",
       "      <td>0</td>\n",
       "      <td>0</td>\n",
       "      <td>0</td>\n",
       "      <td>0</td>\n",
       "      <td>0</td>\n",
       "      <td>...</td>\n",
       "      <td>0</td>\n",
       "      <td>0</td>\n",
       "      <td>0</td>\n",
       "      <td>0</td>\n",
       "      <td>0</td>\n",
       "      <td>0</td>\n",
       "      <td>0</td>\n",
       "      <td>0</td>\n",
       "      <td>0</td>\n",
       "      <td>0</td>\n",
       "    </tr>\n",
       "    <tr>\n",
       "      <th>5168</th>\n",
       "      <td>0</td>\n",
       "      <td>1</td>\n",
       "      <td>4</td>\n",
       "      <td>6</td>\n",
       "      <td>0</td>\n",
       "      <td>0</td>\n",
       "      <td>0</td>\n",
       "      <td>0</td>\n",
       "      <td>0</td>\n",
       "      <td>0</td>\n",
       "      <td>...</td>\n",
       "      <td>0</td>\n",
       "      <td>0</td>\n",
       "      <td>0</td>\n",
       "      <td>0</td>\n",
       "      <td>0</td>\n",
       "      <td>0</td>\n",
       "      <td>0</td>\n",
       "      <td>0</td>\n",
       "      <td>0</td>\n",
       "      <td>0</td>\n",
       "    </tr>\n",
       "    <tr>\n",
       "      <th>5169</th>\n",
       "      <td>0</td>\n",
       "      <td>0</td>\n",
       "      <td>0</td>\n",
       "      <td>0</td>\n",
       "      <td>0</td>\n",
       "      <td>0</td>\n",
       "      <td>0</td>\n",
       "      <td>0</td>\n",
       "      <td>0</td>\n",
       "      <td>0</td>\n",
       "      <td>...</td>\n",
       "      <td>0</td>\n",
       "      <td>0</td>\n",
       "      <td>0</td>\n",
       "      <td>0</td>\n",
       "      <td>0</td>\n",
       "      <td>0</td>\n",
       "      <td>0</td>\n",
       "      <td>0</td>\n",
       "      <td>0</td>\n",
       "      <td>0</td>\n",
       "    </tr>\n",
       "    <tr>\n",
       "      <th>5170</th>\n",
       "      <td>0</td>\n",
       "      <td>0</td>\n",
       "      <td>1</td>\n",
       "      <td>2</td>\n",
       "      <td>0</td>\n",
       "      <td>0</td>\n",
       "      <td>0</td>\n",
       "      <td>0</td>\n",
       "      <td>0</td>\n",
       "      <td>0</td>\n",
       "      <td>...</td>\n",
       "      <td>0</td>\n",
       "      <td>0</td>\n",
       "      <td>0</td>\n",
       "      <td>0</td>\n",
       "      <td>0</td>\n",
       "      <td>0</td>\n",
       "      <td>0</td>\n",
       "      <td>0</td>\n",
       "      <td>0</td>\n",
       "      <td>0</td>\n",
       "    </tr>\n",
       "    <tr>\n",
       "      <th>5171</th>\n",
       "      <td>0</td>\n",
       "      <td>1</td>\n",
       "      <td>3</td>\n",
       "      <td>6</td>\n",
       "      <td>0</td>\n",
       "      <td>0</td>\n",
       "      <td>0</td>\n",
       "      <td>0</td>\n",
       "      <td>0</td>\n",
       "      <td>0</td>\n",
       "      <td>...</td>\n",
       "      <td>0</td>\n",
       "      <td>0</td>\n",
       "      <td>0</td>\n",
       "      <td>0</td>\n",
       "      <td>0</td>\n",
       "      <td>0</td>\n",
       "      <td>0</td>\n",
       "      <td>0</td>\n",
       "      <td>0</td>\n",
       "      <td>0</td>\n",
       "    </tr>\n",
       "  </tbody>\n",
       "</table>\n",
       "<p>5172 rows × 2226 columns</p>\n",
       "</div>"
      ],
      "text/plain": [
       "      abdv  ability  able  ac  accept  acceptance  access  accord  account  \\\n",
       "0        0        0     0   0       0           0       0       0        0   \n",
       "1        0        0     0   3       0           0       0       0        0   \n",
       "2        0        0     0   0       0           0       0       0        0   \n",
       "3        0        0     0   7       0           0       0       0        1   \n",
       "4        0        0     0   4       0           0       0       0        0   \n",
       "...    ...      ...   ...  ..     ...         ...     ...     ...      ...   \n",
       "5167     0        0     0   4       0           0       0       0        0   \n",
       "5168     0        1     4   6       0           0       0       0        0   \n",
       "5169     0        0     0   0       0           0       0       0        0   \n",
       "5170     0        0     1   2       0           0       0       0        0   \n",
       "5171     0        1     3   6       0           0       0       0        0   \n",
       "\n",
       "      accountant  ...  yes  yesterday  york  young  yvette  zajac  zero  \\\n",
       "0              0  ...    0          0     0      0       0      0     0   \n",
       "1              0  ...    0          0     0      0       0      0     0   \n",
       "2              0  ...    0          0     0      0       0      0     0   \n",
       "3              0  ...    1          1     0      0       0      0     0   \n",
       "4              0  ...    0          0     0      0       0      0     0   \n",
       "...          ...  ...  ...        ...   ...    ...     ...    ...   ...   \n",
       "5167           0  ...    0          0     0      0       0      0     0   \n",
       "5168           0  ...    0          0     0      0       0      0     0   \n",
       "5169           0  ...    0          0     0      0       0      0     0   \n",
       "5170           0  ...    0          0     0      0       0      0     0   \n",
       "5171           0  ...    0          0     0      0       0      0     0   \n",
       "\n",
       "      zivley  zone  zonedubai  \n",
       "0          0     0          0  \n",
       "1          0     0          0  \n",
       "2          0     0          0  \n",
       "3          0     0          0  \n",
       "4          0     0          0  \n",
       "...      ...   ...        ...  \n",
       "5167       0     0          0  \n",
       "5168       0     0          0  \n",
       "5169       0     0          0  \n",
       "5170       0     0          0  \n",
       "5171       0     0          0  \n",
       "\n",
       "[5172 rows x 2226 columns]"
      ]
     },
     "execution_count": 34,
     "metadata": {},
     "output_type": "execute_result"
    }
   ],
   "source": [
    "emails"
   ]
  },
  {
   "cell_type": "markdown",
   "id": "01269335",
   "metadata": {},
   "source": [
    "We have noticed that by removing more features of these, the results start to get worse, so we have decided to stop here with the selection phase."
   ]
  },
  {
   "cell_type": "markdown",
   "id": "77cb8dd1",
   "metadata": {},
   "source": [
    "# 2. Standardization "
   ]
  },
  {
   "cell_type": "markdown",
   "id": "a62f3907",
   "metadata": {},
   "source": [
    "We want to standardize the dataset to put all data on the **same scale**. In fact, if the data are on different scales the model could get confused and give more weight to the data with **higher magnitude**.\n",
    "\n",
    "For standardization we used the *StandardScaler* method of the Scikit-learn library, which standardize features by removing the mean and scaling to unit variance.\n",
    "\n",
    "The standard score of a sample x is calculated as:\n",
    "\n",
    "$$ z = {(x - u) \\over s} $$"
   ]
  },
  {
   "cell_type": "code",
   "execution_count": 35,
   "id": "dd933d36",
   "metadata": {},
   "outputs": [],
   "source": [
    "from sklearn.preprocessing import StandardScaler"
   ]
  },
  {
   "cell_type": "code",
   "execution_count": 36,
   "id": "e7c2d7bc",
   "metadata": {},
   "outputs": [],
   "source": [
    "scaler = StandardScaler()\n",
    "scaler.fit(emails)\n",
    "emails_standardization = scaler.transform(emails)"
   ]
  },
  {
   "cell_type": "code",
   "execution_count": 37,
   "id": "1500294b",
   "metadata": {},
   "outputs": [
    {
     "data": {
      "text/plain": [
       "array([[-0.01390634, -0.15530541, -0.3110483 , ..., -0.08354819,\n",
       "        -0.09986539, -0.08488494],\n",
       "       [-0.01390634, -0.15530541, -0.3110483 , ..., -0.08354819,\n",
       "        -0.09986539, -0.08488494],\n",
       "       [-0.01390634, -0.15530541, -0.3110483 , ..., -0.08354819,\n",
       "        -0.09986539, -0.08488494],\n",
       "       ...,\n",
       "       [-0.01390634, -0.15530541, -0.3110483 , ..., -0.08354819,\n",
       "        -0.09986539, -0.08488494],\n",
       "       [-0.01390634, -0.15530541,  0.56804558, ..., -0.08354819,\n",
       "        -0.09986539, -0.08488494],\n",
       "       [-0.01390634,  3.07055628,  2.32623334, ..., -0.08354819,\n",
       "        -0.09986539, -0.08488494]])"
      ]
     },
     "execution_count": 37,
     "metadata": {},
     "output_type": "execute_result"
    }
   ],
   "source": [
    "emails_standardization"
   ]
  },
  {
   "cell_type": "markdown",
   "id": "f85753d4",
   "metadata": {},
   "source": [
    "# 3. Split: Train, Validation, Test"
   ]
  },
  {
   "cell_type": "markdown",
   "id": "a54f5e3f",
   "metadata": {},
   "source": [
    "## 3.2 Train, Validation, Test"
   ]
  },
  {
   "cell_type": "markdown",
   "id": "ed20470f",
   "metadata": {},
   "source": [
    "We split the dataset in such a way as to use one part of the dataset for training, one for testing and one for valutation.\n",
    "\n",
    "As suggested in the literature, the training dataset is *larger* than that of testing and valutation, to allow learning to occur properly. \n",
    "\n",
    "The split of the dataset is done through the train_test_split method of the Scikit-learn library."
   ]
  },
  {
   "cell_type": "code",
   "execution_count": 38,
   "id": "90b29957",
   "metadata": {},
   "outputs": [
    {
     "data": {
      "text/plain": [
       "(5172, 2226)"
      ]
     },
     "execution_count": 38,
     "metadata": {},
     "output_type": "execute_result"
    }
   ],
   "source": [
    "emails_standardization.shape"
   ]
  },
  {
   "cell_type": "code",
   "execution_count": 39,
   "id": "c9ace66a",
   "metadata": {},
   "outputs": [],
   "source": [
    "from sklearn.model_selection import train_test_split\n",
    "\n",
    "X_train, X_test, y_train, y_test = train_test_split(emails_standardization, labels, stratify=labels, test_size=0.15, random_state=18)\n",
    "X_train, X_val, y_train, y_val = train_test_split(X_train, y_train, test_size=0.15, random_state=18)"
   ]
  },
  {
   "cell_type": "code",
   "execution_count": 40,
   "id": "bb90b236",
   "metadata": {},
   "outputs": [
    {
     "name": "stdout",
     "output_type": "stream",
     "text": [
      "3736\n",
      "660\n",
      "776\n"
     ]
    }
   ],
   "source": [
    "print(len(X_train)) # 72.25%\n",
    "print(len(X_val)) # 12.75%\n",
    "print(len(X_test)) # 15%"
   ]
  },
  {
   "cell_type": "markdown",
   "id": "67d7e118",
   "metadata": {},
   "source": [
    "# 4. Metrics"
   ]
  },
  {
   "cell_type": "markdown",
   "id": "c833a0c3",
   "metadata": {},
   "source": [
    "We implement some metrics that will then be used in the final performance evaluation phase."
   ]
  },
  {
   "cell_type": "code",
   "execution_count": 41,
   "id": "bc46db47",
   "metadata": {},
   "outputs": [],
   "source": [
    "import sklearn.metrics as metrics"
   ]
  },
  {
   "cell_type": "markdown",
   "id": "79a018e6",
   "metadata": {},
   "source": [
    "## 4.1 Confusion Matrix"
   ]
  },
  {
   "cell_type": "markdown",
   "id": "b1b87e97",
   "metadata": {},
   "source": [
    "Each column of the matrix represents the predicted values, while each row represents the true values."
   ]
  },
  {
   "cell_type": "code",
   "execution_count": 42,
   "id": "aa430b85",
   "metadata": {},
   "outputs": [],
   "source": [
    "def my_confusion_matrix(y_true, y_pred):\n",
    "    fp = 0\n",
    "    fn = 0\n",
    "    tp = 0\n",
    "    tn = 0\n",
    "\n",
    "    for i in range(len(y_true)):\n",
    "        if y_pred[i] == y_true[i]:\n",
    "            if y_pred[i] == 1:\n",
    "                tp += 1\n",
    "            else:\n",
    "                tn += 1\n",
    "        else:\n",
    "            if y_pred[i] == 1:\n",
    "                fp += 1\n",
    "            else:\n",
    "                fn += 1\n",
    "\n",
    "    matrix = [\n",
    "        [tn, fp],\n",
    "        [fn, tp]\n",
    "    ]\n",
    "    \n",
    "    return np.array(matrix, dtype=np.int64)"
   ]
  },
  {
   "cell_type": "markdown",
   "id": "f91cfcfb",
   "metadata": {},
   "source": [
    "## 4.2 Accuracy"
   ]
  },
  {
   "cell_type": "markdown",
   "id": "ce172df8",
   "metadata": {},
   "source": [
    "**Accuracy** give us an indication of how often the algorithm classifies a data point correctly. It can be calculated by dividing the *number of correct predictions* over the *total number of predictions*:\n",
    "\n",
    "$$ Accuracy = {TP + TN \\over TP + TN + FP + FN} $$"
   ]
  },
  {
   "cell_type": "code",
   "execution_count": 43,
   "id": "db89e280",
   "metadata": {},
   "outputs": [],
   "source": [
    "def my_accuracy_score(y_true, y_pred):\n",
    "    tn, fp, fn, tp = my_confusion_matrix(y_true, y_pred).ravel()\n",
    "    accuracy = (tn + tp) / len(y_true)\n",
    "    return accuracy"
   ]
  },
  {
   "cell_type": "markdown",
   "id": "d47e01f2",
   "metadata": {},
   "source": [
    "## 4.3 Precision"
   ]
  },
  {
   "cell_type": "markdown",
   "id": "438fd355",
   "metadata": {},
   "source": [
    "The **precision** of a model describes how many detected items are truly relevant. It can be calculated by dividing the *true positives* by *overall positives*:\n",
    "\n",
    "$$ Precision = {TP \\over TP + FP } $$"
   ]
  },
  {
   "cell_type": "code",
   "execution_count": 44,
   "id": "e0299d21",
   "metadata": {},
   "outputs": [],
   "source": [
    "def my_precision_score(y_true, y_pred):\n",
    "    tn, fp, fn, tp = my_confusion_matrix(y_true, y_pred).ravel()    \n",
    "    precision = tp / (fp + tp)\n",
    "    return precision"
   ]
  },
  {
   "cell_type": "markdown",
   "id": "ba29b423",
   "metadata": {},
   "source": [
    "## 4.4 Recall"
   ]
  },
  {
   "cell_type": "markdown",
   "id": "1ac0ef7b",
   "metadata": {},
   "source": [
    "**Recall** is a measure of how many relevant elements were detected. It can be calculated by dividing *true positives* by the *number of relevant elements*:\n",
    "\n",
    "$$ Recall = {TP \\over TP + FN } $$"
   ]
  },
  {
   "cell_type": "code",
   "execution_count": 45,
   "id": "c5fac6ad",
   "metadata": {},
   "outputs": [],
   "source": [
    "def my_recall_score(y_true, y_pred):\n",
    "    tn, fp, fn, tp = my_confusion_matrix(y_true, y_pred).ravel()\n",
    "    recall = tp / (tp + fn)\n",
    "    return recall"
   ]
  },
  {
   "cell_type": "markdown",
   "id": "6003aec6",
   "metadata": {},
   "source": [
    "## 4.4 FAR, FRR, EER"
   ]
  },
  {
   "cell_type": "markdown",
   "id": "ee8cacda",
   "metadata": {},
   "source": [
    "The metrics above tell us how well the models predict, but it might be interesting to understand **how badly they predict** and **where they fail**.\n",
    "\n",
    "For this proposal, we computed the **FAR** (False Acceptance Rate) and the **FRR** (False Rejection Rate) in order to find the **EER** (Equal Error Rate), that is graphically described as the point at which these two metrics intersect. "
   ]
  },
  {
   "cell_type": "markdown",
   "id": "3617c99c",
   "metadata": {},
   "source": [
    "<ul> \n",
    "<li> FAR occurs when we accept a user whom we should actually have rejected. </li>\n",
    "\n",
    "$$ FAR = { FP \\over FP + TN } $$\n",
    "\n",
    "<li> FRR is the problem of rejecting a legitimate user when we should have accepted him. </li>\n",
    "\n",
    "$$ FRR = { FN \\over FN + TP } $$\n",
    "\n",
    "<li> EER is the point where FAR and FRR are equal, so it represents the best threshold to choose. The optimal value of EER is the nearest to zero. </li>\n",
    "\n",
    "</ul>"
   ]
  },
  {
   "cell_type": "code",
   "execution_count": 46,
   "id": "fb1b7a6e",
   "metadata": {},
   "outputs": [],
   "source": [
    "def compute_EER(predictions):\n",
    "    total_results = []\n",
    "    results = [k[1] for k in predictions]                     \n",
    "    total_results.extend(results)    \n",
    "\n",
    "    FAR_list = [] # False acceptance rate \n",
    "    FRR_list= [] # False rejection rate\n",
    "    thresholds = np.linspace(0,1,101)              # 101 equally spaced points between 0 and 1\n",
    "    for threshold in thresholds:\n",
    "        pred_threshold = [1 if x >= threshold else 0 for x in total_results]                                           \n",
    "        tn, fp, fn, tp = metrics.confusion_matrix(y_test, pred_threshold, labels=[0,1]).ravel()\n",
    "   \n",
    "        FAR = fp/(fp + tn)                                                                              \n",
    "        FRR = fn/(fn + tp)\n",
    "\n",
    "        FAR_list = np.append(FAR_list, FAR)                                                                     \n",
    "        FRR_list = np.append(FRR_list, FRR)\n",
    "\n",
    "\n",
    "    # Equal Error Rate\n",
    "    diff = np.abs(FAR_list - FRR_list)             \n",
    "    min_i = np.argmin(diff)\n",
    "    EER = np.mean((FAR_list[min_i], FRR_list[min_i]))\n",
    "    threshold = thresholds[min_i]\n",
    "\n",
    "    return EER, FAR_list, FRR_list"
   ]
  },
  {
   "cell_type": "code",
   "execution_count": 47,
   "id": "31fddb44",
   "metadata": {},
   "outputs": [],
   "source": [
    "def compute_EER_NB(predictions):\n",
    "    total_results = []\n",
    "    results = [k[1] for k in predictions]                     \n",
    "    total_results.extend(results)    \n",
    "\n",
    "    FAR_list = [] # False acceptance rate \n",
    "    FRR_list= [] # False rejection rate\n",
    "    thresholds = np.linspace(0,1,101)              # 101 equally spaced points between 0 and 1\n",
    "    for threshold in thresholds:\n",
    "        pred_threshold = [1 if x >= threshold else 0 for x in total_results]                                           \n",
    "        tn, fp, fn, tp = metrics.confusion_matrix(y_test_NB, pred_threshold, labels=[0,1]).ravel()\n",
    "\n",
    "        FAR = fp/(fp + tn)                                                                              \n",
    "        FRR = fn/(fn + tp)\n",
    "\n",
    "        FAR_list = np.append(FAR_list, FAR)                                                                     \n",
    "        FRR_list = np.append(FRR_list, FRR)\n",
    "\n",
    "\n",
    "    # Equal Error Rate\n",
    "    diff = np.abs(FAR_list - FRR_list)             \n",
    "    min_i = np.argmin(diff)\n",
    "    EER = np.mean((FAR_list[min_i], FRR_list[min_i]))\n",
    "    threshold = thresholds[min_i]\n",
    "\n",
    "    return EER, FAR_list, FRR_list"
   ]
  },
  {
   "cell_type": "markdown",
   "id": "b8427f9d",
   "metadata": {},
   "source": [
    "## 4.5 Computational Time"
   ]
  },
  {
   "cell_type": "markdown",
   "id": "0de37183",
   "metadata": {},
   "source": [
    "**Computational time** is also a important metric that should not be underestimated when dealing with so much data. Fort this proposal, we import the Python time module."
   ]
  },
  {
   "cell_type": "code",
   "execution_count": 48,
   "id": "832f0c64",
   "metadata": {},
   "outputs": [],
   "source": [
    "import time\n",
    "times = {}"
   ]
  },
  {
   "cell_type": "markdown",
   "id": "9c4952a1",
   "metadata": {},
   "source": [
    "# 5. Model Building: Implemented Classifiers"
   ]
  },
  {
   "cell_type": "markdown",
   "id": "c10586a9",
   "metadata": {},
   "source": [
    "## 5.1 Logistic Regression"
   ]
  },
  {
   "cell_type": "code",
   "execution_count": 49,
   "id": "d689e9a5",
   "metadata": {},
   "outputs": [],
   "source": [
    "def sigmoid(x):\n",
    "    sig_x = (1/(1+np.exp(-x)))\n",
    "    return sig_x\n",
    "\n",
    "def log_likelihood(theta,features,target,epsilon=1e-7):\n",
    "    h=sigmoid(np.array([np.dot(theta,features[i,:]) for i in range(features.shape[0])]))\n",
    "    h = np.maximum(np.full(h.shape, epsilon), np.minimum(np.full(h.shape, 1-epsilon), h))       # fix 0/1 values in h so log is not undefined\n",
    "    log_l=np.sum([target[i] * np.log(h[i]) + (1-target[i]) * np.log(1-h[i]) for i in range(len(target))])\n",
    "    log_l=log_l/features.shape[0]\n",
    "\n",
    "    return log_l\n",
    "\n",
    "\n",
    "def predictions(features, theta):\n",
    "    preds = sigmoid(np.array([np.dot(theta,features[i,:]) for i in range(features.shape[0])]))\n",
    "    return preds\n",
    "\n",
    "\n",
    "def update_theta(theta, target, preds, features, lr):\n",
    "    theta += lr * np.array([np.dot(target-preds,features[:,j]) for j in range(features.shape[1])]) / features.shape[0]\n",
    "    return theta \n",
    "\n",
    "def gradient_ascent(theta, features, target, lr, num_steps):\n",
    "    log_likelihood_history = np.zeros(num_steps)\n",
    "    for i in range(num_steps):\n",
    "        preds = predictions(features, theta)\n",
    "        log_likelihood_history[i] = log_likelihood(theta, features, target)\n",
    "        theta = update_theta(theta, target, preds, features, lr)\n",
    "\n",
    "    return theta, log_likelihood_history\n"
   ]
  },
  {
   "cell_type": "code",
   "execution_count": 50,
   "id": "6a74a199",
   "metadata": {},
   "outputs": [],
   "source": [
    "x = np.hstack([np.ones((X_train.shape[0], 1)), X_train])\n",
    "y = np.array(y_train)\n"
   ]
  },
  {
   "cell_type": "code",
   "execution_count": 51,
   "id": "c9f3cc69",
   "metadata": {},
   "outputs": [
    {
     "name": "stdout",
     "output_type": "stream",
     "text": [
      "[-1.37511969  0.03257042 -0.02768499 ...  0.02616824  0.00641154\n",
      "  0.14134131]\n"
     ]
    }
   ],
   "source": [
    "# Initialize theta0\n",
    "start = time.time()\n",
    "theta0 = np.zeros(x.shape[1])\n",
    "\n",
    "# Run Gradient Ascent method\n",
    "n_iter= 500\n",
    "theta_final, log_l_history = gradient_ascent(theta0,x,y,lr=0.5,num_steps=n_iter)\n",
    "end = time.time()\n",
    "print(theta_final)\n",
    "times['Logistic Regression'] = end - start"
   ]
  },
  {
   "cell_type": "code",
   "execution_count": 52,
   "id": "33251a0a",
   "metadata": {},
   "outputs": [
    {
     "data": {
      "text/plain": [
       "array([-0.69314718, -0.47611565, -0.48405176, -0.51834854, -0.46973706,\n",
       "       -0.3498025 , -0.22127802, -0.17905332, -0.15492798, -0.14469645])"
      ]
     },
     "execution_count": 52,
     "metadata": {},
     "output_type": "execute_result"
    }
   ],
   "source": [
    "len(log_l_history)\n",
    "log_l_history[:10]"
   ]
  },
  {
   "cell_type": "code",
   "execution_count": 53,
   "id": "13620f9e",
   "metadata": {},
   "outputs": [
    {
     "data": {
      "text/plain": [
       "[<matplotlib.lines.Line2D at 0x148cc54f3a0>]"
      ]
     },
     "execution_count": 53,
     "metadata": {},
     "output_type": "execute_result"
    },
    {
     "data": {
      "image/png": "[encoded data removed]",
      "text/plain": [
       "<Figure size 640x480 with 1 Axes>"
      ]
     },
     "metadata": {},
     "output_type": "display_data"
    }
   ],
   "source": [
    "plt.plot(log_l_history)"
   ]
  },
  {
   "cell_type": "code",
   "execution_count": 54,
   "id": "b11a2a19",
   "metadata": {},
   "outputs": [],
   "source": [
    "def my_predict_proba(theta, X):\n",
    "    z = sigmoid(np.dot(X, theta))\n",
    "    return [[1-logProb , logProb] for logProb in z]\n",
    "\n",
    "def my_predict(theta, X, threshold=0.5):\n",
    "    proba =sigmoid(np.dot(X, theta))\n",
    "    return np.array([int(x>=threshold) for x in proba])"
   ]
  },
  {
   "cell_type": "code",
   "execution_count": 55,
   "id": "b099e4e2",
   "metadata": {},
   "outputs": [
    {
     "name": "stdout",
     "output_type": "stream",
     "text": [
      "[[0.9999989081579136, 1.0918420863779824e-06], [0.0, 1.0], [0.9997981665506724, 0.00020183344932758992], [0.989728176580928, 0.010271823419071987], [0.8969651656225981, 0.10303483437740191]]\n",
      "4505    0\n",
      "3889    1\n",
      "4675    0\n",
      "2613    0\n",
      "4469    1\n",
      "Name: Prediction, dtype: int64\n"
     ]
    }
   ],
   "source": [
    "x_test = np.hstack([np.ones((X_test.shape[0], 1)), X_test])\n",
    "y_prob = my_predict_proba(theta_final, x_test)\n",
    "print(y_prob[:5])\n",
    "print(y_test[:5])"
   ]
  },
  {
   "cell_type": "code",
   "execution_count": 56,
   "id": "d86cf29a",
   "metadata": {},
   "outputs": [
    {
     "name": "stdout",
     "output_type": "stream",
     "text": [
      "    thresholds  accuracy\n",
      "0          0.0  0.289948\n",
      "1          0.1  0.920103\n",
      "2          0.2  0.940722\n",
      "3          0.3  0.957474\n",
      "4          0.4  0.963918\n",
      "5          0.5  0.958763\n",
      "6          0.6  0.952320\n",
      "7          0.7  0.952320\n",
      "8          0.8  0.952320\n",
      "9          0.9  0.930412\n",
      "10         1.0  0.720361\n"
     ]
    }
   ],
   "source": [
    "thresholds = []\n",
    "accuracy = []\n",
    "precision = []\n",
    "recall = []\n",
    "\n",
    "threshold = [x * 0.1 for x in range(0, 11)] \n",
    "for t in threshold:\n",
    "    y_pred = my_predict(theta_final, x_test, t)\n",
    "    accuracy.append(my_accuracy_score(list(y_test), y_pred))\n",
    "    precision.append(my_precision_score(list(y_test), y_pred))\n",
    "    recall.append(my_recall_score(list(y_test), y_pred))\n",
    "\n",
    "output = pd.DataFrame({\n",
    "    \"thresholds\": threshold,\n",
    "    \"accuracy\": accuracy,\n",
    "    #\"precision\": precision, \n",
    "    #\"recall\": recall\n",
    "    })\n",
    "\n",
    "print(output)"
   ]
  },
  {
   "cell_type": "code",
   "execution_count": 57,
   "id": "776cf64b",
   "metadata": {},
   "outputs": [
    {
     "data": {
      "text/plain": [
       "array([0, 1, 0, 0, 0, 0, 0, 1, 0, 1])"
      ]
     },
     "execution_count": 57,
     "metadata": {},
     "output_type": "execute_result"
    }
   ],
   "source": [
    "y_pred_LG = my_predict(theta_final, x_test, 0.4)\n",
    "y_pred_LG[:10]"
   ]
  },
  {
   "cell_type": "code",
   "execution_count": 58,
   "id": "e26d4182",
   "metadata": {},
   "outputs": [
    {
     "data": {
      "image/png": "[encoded data removed]",
      "text/plain": [
       "<Figure size 640x480 with 2 Axes>"
      ]
     },
     "metadata": {},
     "output_type": "display_data"
    }
   ],
   "source": [
    "cmLG = my_confusion_matrix(list(y_test), y_pred_LG)\n",
    "disp = metrics.ConfusionMatrixDisplay(confusion_matrix=cmLG, display_labels=['Not Spam', 'Spam'])\n",
    "disp.plot()\n",
    "plt.show()"
   ]
  },
  {
   "cell_type": "code",
   "execution_count": 59,
   "id": "ca571e11",
   "metadata": {},
   "outputs": [
    {
     "data": {
      "text/plain": [
       "[[0.9999989081579136, 1.0918420863779824e-06],\n",
       " [0.0, 1.0],\n",
       " [0.9997981665506724, 0.00020183344932758992],\n",
       " [0.989728176580928, 0.010271823419071987],\n",
       " [0.8969651656225981, 0.10303483437740191],\n",
       " [0.8195176026399129, 0.18048239736008712],\n",
       " [0.9998012772562621, 0.00019872274373785619],\n",
       " [0.1191940763018029, 0.8808059236981971],\n",
       " [0.7287061318679059, 0.2712938681320941],\n",
       " [4.337587992120362e-07, 0.9999995662412008]]"
      ]
     },
     "execution_count": 59,
     "metadata": {},
     "output_type": "execute_result"
    }
   ],
   "source": [
    "y_proba_LG = my_predict_proba(theta_final, x_test)\n",
    "y_proba_LG[:10]"
   ]
  },
  {
   "cell_type": "markdown",
   "id": "028bc68d",
   "metadata": {},
   "source": [
    "## 5.2 Naive Bayes"
   ]
  },
  {
   "cell_type": "markdown",
   "id": "19159c8a",
   "metadata": {},
   "source": [
    "NOTE: The Dataset is splitted again beacause for the Naive Bayes model we need a not normalized set to compute probabilities (approximated as frequencies)"
   ]
  },
  {
   "cell_type": "code",
   "execution_count": 60,
   "id": "b07d9a33",
   "metadata": {},
   "outputs": [],
   "source": [
    "X_train_NB, X_test_NB, y_train_NB, y_test_NB = train_test_split(emails, labels, stratify=labels, test_size=0.15, random_state=18)\n",
    "X_train_NB, X_val_NB, y_train_NB, y_val_NB = train_test_split(X_train_NB, y_train_NB, test_size=0.15, random_state=18)"
   ]
  },
  {
   "cell_type": "markdown",
   "id": "816e2cca",
   "metadata": {},
   "source": [
    "Defining parameters of the model: prior probability and likelihood probability"
   ]
  },
  {
   "cell_type": "code",
   "execution_count": 61,
   "id": "7a5d671a",
   "metadata": {},
   "outputs": [],
   "source": [
    "def prior_prob(y_train):\n",
    "    N_mail = len(y_train)\n",
    "    N_spam = sum(y_train)\n",
    "    spam_freq = N_spam/N_mail\n",
    "    return [1-spam_freq, spam_freq]\n",
    "\n",
    "def likelihood(X_train, y_train):\n",
    "    V = list(X_train.columns)               # Vocabulary\n",
    "    words_in_spam = 0\n",
    "    words_in_notspam = 0\n",
    "    \n",
    "    num_for_word_spam = {col: 0 for col in V}\n",
    "    num_for_word_notspam = {col: 0 for col in V}\n",
    "    for i in range(len(y_train)):\n",
    "        for col in V:\n",
    "            occurencies = X_train[col].iloc[i]\n",
    "            if y_train.iloc[i] == 0:\n",
    "                # not spam\n",
    "                words_in_notspam += occurencies\n",
    "                num_for_word_notspam[col] += occurencies\n",
    "            elif y_train.iloc[i] == 1:\n",
    "                # spam\n",
    "                words_in_spam += occurencies\n",
    "                num_for_word_spam[col] += occurencies\n",
    "            else:\n",
    "                raise ValueError\n",
    "    \n",
    "    likelihood_prob_spam = np.array([float((num_for_word_spam[col]+1)/(words_in_spam+len(V))) for col in V])\n",
    "    likelihood_prob_notspam = np.array([float((num_for_word_notspam[col]+1)/(words_in_notspam+len(V))) for col in V])\n",
    "\n",
    "    return pd.DataFrame([likelihood_prob_notspam, likelihood_prob_spam], index=['Safe', 'Spam'], columns=X_train.columns)"
   ]
  },
  {
   "cell_type": "markdown",
   "id": "e6d1242d",
   "metadata": {},
   "source": [
    "Defining prediction functions"
   ]
  },
  {
   "cell_type": "code",
   "execution_count": 62,
   "id": "e401b02c",
   "metadata": {},
   "outputs": [],
   "source": [
    "def NB_predict_proba(likelihood, prior, X_test):\n",
    "    probs = []\n",
    "    for i in range(len(X_test)):\n",
    "        log_p_not_norm = np.array([0.0, 0.0])\n",
    "        for word in X_test.columns:\n",
    "            log_p_not_norm += (np.log(np.array(likelihood[word])) * X_test[word].iloc[i])\n",
    "        log_p_not_norm += np.log(prior)\n",
    "        A = max(log_p_not_norm)\n",
    "        log_den = A + np.log(sum(np.exp(log_p_not_norm-A)))\n",
    "        probs.append(log_p_not_norm - log_den)\n",
    "    return np.array(probs)\n",
    "\n",
    "def NB_predict(likelihood_prob, prior, X_test, threshold=0.5):\n",
    "    preds = []\n",
    "    for i in range(len(X_test)):\n",
    "        log_p_not_norm = np.array([0.0, 0.0])\n",
    "        for word in X_test.columns:\n",
    "            log_p_not_norm += (np.log(np.array(likelihood_prob[word])) * X_test[word].iloc[i])\n",
    "        log_p_not_norm += np.log(prior)\n",
    "        preds.append(np.argmax(log_p_not_norm))\n",
    "    return preds"
   ]
  },
  {
   "cell_type": "code",
   "execution_count": 63,
   "id": "ef4eca25",
   "metadata": {},
   "outputs": [
    {
     "data": {
      "text/plain": [
       "[0.7061027837259101, 0.29389721627408993]"
      ]
     },
     "execution_count": 63,
     "metadata": {},
     "output_type": "execute_result"
    }
   ],
   "source": [
    "P = prior_prob(y_train_NB)\n",
    "P"
   ]
  },
  {
   "cell_type": "code",
   "execution_count": 64,
   "id": "0d0b1f2a",
   "metadata": {},
   "outputs": [
    {
     "data": {
      "text/html": [
       "<div>\n",
       "<style scoped>\n",
       "    .dataframe tbody tr th:only-of-type {\n",
       "        vertical-align: middle;\n",
       "    }\n",
       "\n",
       "    .dataframe tbody tr th {\n",
       "        vertical-align: top;\n",
       "    }\n",
       "\n",
       "    .dataframe thead th {\n",
       "        text-align: right;\n",
       "    }\n",
       "</style>\n",
       "<table border=\"1\" class=\"dataframe\">\n",
       "  <thead>\n",
       "    <tr style=\"text-align: right;\">\n",
       "      <th></th>\n",
       "      <th>abdv</th>\n",
       "      <th>ability</th>\n",
       "      <th>able</th>\n",
       "      <th>ac</th>\n",
       "      <th>accept</th>\n",
       "      <th>acceptance</th>\n",
       "      <th>access</th>\n",
       "      <th>accord</th>\n",
       "      <th>account</th>\n",
       "      <th>accountant</th>\n",
       "      <th>...</th>\n",
       "      <th>yes</th>\n",
       "      <th>yesterday</th>\n",
       "      <th>york</th>\n",
       "      <th>young</th>\n",
       "      <th>yvette</th>\n",
       "      <th>zajac</th>\n",
       "      <th>zero</th>\n",
       "      <th>zivley</th>\n",
       "      <th>zone</th>\n",
       "      <th>zonedubai</th>\n",
       "    </tr>\n",
       "  </thead>\n",
       "  <tbody>\n",
       "    <tr>\n",
       "      <th>Safe</th>\n",
       "      <td>0.000001</td>\n",
       "      <td>0.000117</td>\n",
       "      <td>0.000753</td>\n",
       "      <td>0.010165</td>\n",
       "      <td>0.000070</td>\n",
       "      <td>0.000014</td>\n",
       "      <td>0.000210</td>\n",
       "      <td>0.000090</td>\n",
       "      <td>0.000462</td>\n",
       "      <td>0.000029</td>\n",
       "      <td>...</td>\n",
       "      <td>0.000144</td>\n",
       "      <td>0.000078</td>\n",
       "      <td>0.000029</td>\n",
       "      <td>0.000232</td>\n",
       "      <td>0.000048</td>\n",
       "      <td>0.000037</td>\n",
       "      <td>0.000262</td>\n",
       "      <td>0.000051</td>\n",
       "      <td>0.000070</td>\n",
       "      <td>0.000001</td>\n",
       "    </tr>\n",
       "    <tr>\n",
       "      <th>Spam</th>\n",
       "      <td>0.000087</td>\n",
       "      <td>0.000252</td>\n",
       "      <td>0.002122</td>\n",
       "      <td>0.010192</td>\n",
       "      <td>0.000186</td>\n",
       "      <td>0.000076</td>\n",
       "      <td>0.000204</td>\n",
       "      <td>0.000038</td>\n",
       "      <td>0.000512</td>\n",
       "      <td>0.000015</td>\n",
       "      <td>...</td>\n",
       "      <td>0.000132</td>\n",
       "      <td>0.000018</td>\n",
       "      <td>0.000025</td>\n",
       "      <td>0.000112</td>\n",
       "      <td>0.000005</td>\n",
       "      <td>0.000003</td>\n",
       "      <td>0.000048</td>\n",
       "      <td>0.000003</td>\n",
       "      <td>0.000244</td>\n",
       "      <td>0.000081</td>\n",
       "    </tr>\n",
       "  </tbody>\n",
       "</table>\n",
       "<p>2 rows × 2226 columns</p>\n",
       "</div>"
      ],
      "text/plain": [
       "          abdv   ability      able        ac    accept  acceptance    access  \\\n",
       "Safe  0.000001  0.000117  0.000753  0.010165  0.000070    0.000014  0.000210   \n",
       "Spam  0.000087  0.000252  0.002122  0.010192  0.000186    0.000076  0.000204   \n",
       "\n",
       "        accord   account  accountant  ...       yes  yesterday      york  \\\n",
       "Safe  0.000090  0.000462    0.000029  ...  0.000144   0.000078  0.000029   \n",
       "Spam  0.000038  0.000512    0.000015  ...  0.000132   0.000018  0.000025   \n",
       "\n",
       "         young    yvette     zajac      zero    zivley      zone  zonedubai  \n",
       "Safe  0.000232  0.000048  0.000037  0.000262  0.000051  0.000070   0.000001  \n",
       "Spam  0.000112  0.000005  0.000003  0.000048  0.000003  0.000244   0.000081  \n",
       "\n",
       "[2 rows x 2226 columns]"
      ]
     },
     "execution_count": 64,
     "metadata": {},
     "output_type": "execute_result"
    }
   ],
   "source": [
    "# These functions are part of the model training process, so we calculate time\n",
    "start = time.time()\n",
    "P = prior_prob(y_train_NB)\n",
    "likelihood_prob = likelihood(X_train_NB, y_train_NB)\n",
    "end = time.time()\n",
    "\n",
    "times['Naive Bayes'] = end-start\n",
    "\n",
    "likelihood_prob"
   ]
  },
  {
   "cell_type": "code",
   "execution_count": 65,
   "id": "1993166c",
   "metadata": {},
   "outputs": [
    {
     "data": {
      "image/png": "[encoded data removed]",
      "text/plain": [
       "<Figure size 640x480 with 2 Axes>"
      ]
     },
     "metadata": {},
     "output_type": "display_data"
    }
   ],
   "source": [
    "y_pred_NB = NB_predict(likelihood_prob, P, X_test_NB)\n",
    "cmNB = my_confusion_matrix(np.array(y_test_NB), np.array(y_pred_NB))\n",
    "disp = metrics.ConfusionMatrixDisplay(cmNB, display_labels=['Not Spam', 'Spam'])\n",
    "disp.plot()\n",
    "plt.show()"
   ]
  },
  {
   "cell_type": "code",
   "execution_count": 66,
   "id": "8f6bfa8d",
   "metadata": {},
   "outputs": [
    {
     "data": {
      "text/plain": [
       "array([[1.00000000e+000, 8.54436767e-092],\n",
       "       [1.17340063e-173, 1.00000000e+000],\n",
       "       [1.00000000e+000, 2.59742295e-033],\n",
       "       [9.99976005e-001, 2.39947573e-005],\n",
       "       [1.06414782e-003, 9.98935852e-001],\n",
       "       [9.99999686e-001, 3.14488131e-007],\n",
       "       [1.00000000e+000, 1.38008770e-034],\n",
       "       [2.86656756e-001, 7.13343244e-001],\n",
       "       [9.99999939e-001, 6.14171931e-008],\n",
       "       [6.13705719e-031, 1.00000000e+000]])"
      ]
     },
     "execution_count": 66,
     "metadata": {},
     "output_type": "execute_result"
    }
   ],
   "source": [
    "y_log_prob_NB = NB_predict_proba(likelihood_prob, P, X_test_NB)\n",
    "y_proba_NB = np.exp(y_log_prob_NB)\n",
    "y_proba_NB[:10]"
   ]
  },
  {
   "cell_type": "markdown",
   "id": "30f4beee",
   "metadata": {},
   "source": [
    "# 6. Model Building: Existing Classifiers \n",
    "We decide to compare the implemented classifiers with classifiers provided by the Scikit-learn library.\n",
    "\n",
    "List of classifiers used:\n",
    "- [AdaBoostClassifier](https://scikit-learn.org/stable/modules/generated/sklearn.ensemble.AdaBoostClassifier.html#sklearn.ensemble.AdaBoostClassifier): at each iteration increases the weight of badly predicted instances so in later iterations the estimators can focus more on those.\n",
    "\n",
    "- [ExtraTreesClassifier](https://scikit-learn.org/stable/modules/generated/sklearn.ensemble.ExtraTreesClassifier.html#sklearn.ensemble.ExtraTreesClassifier): creates many decision trees, but the sampling for each tree is random, without replacement. This creates a dataset for each tree with unique samples. \n",
    "\n",
    "- [KNeighborsClassifier](https://scikit-learn.org/stable/modules/generated/sklearn.neighbors.KNeighborsClassifier.html#sklearn.neighbors.KNeighborsClassifier): works by finding the distances between a query and all the examples in the data, selecting the specified number examples (K) closest to the query, then votes for the most frequent label."
   ]
  },
  {
   "cell_type": "code",
   "execution_count": 67,
   "id": "dba1ada8",
   "metadata": {},
   "outputs": [],
   "source": [
    "from sklearn.ensemble import AdaBoostClassifier\n",
    "from sklearn.ensemble import ExtraTreesClassifier\n",
    "from sklearn.neighbors import KNeighborsClassifier"
   ]
  },
  {
   "cell_type": "markdown",
   "id": "2fe704e6",
   "metadata": {},
   "source": [
    "## 6.1 Improve the performance with GridSearchCV"
   ]
  },
  {
   "cell_type": "markdown",
   "id": "55df01f8",
   "metadata": {},
   "source": [
    "At first, we want to improve the performance of our classifiers by using **GridSearchCV** from Scikit-learn library. \n",
    "\n",
    "The goal is to find the optimal values of parameters that truly improve performance according to a certain metric. In this part, we choose to perform the classifiers according to the **accuracy metric** and to manage the parameter of **estimators/neighbors** of each of them."
   ]
  },
  {
   "cell_type": "code",
   "execution_count": 68,
   "id": "1f7ac77f",
   "metadata": {},
   "outputs": [],
   "source": [
    "from sklearn.model_selection import GridSearchCV"
   ]
  },
  {
   "cell_type": "markdown",
   "id": "9c3471ed",
   "metadata": {},
   "source": [
    "### AdaBoostClassifier"
   ]
  },
  {
   "cell_type": "code",
   "execution_count": 69,
   "id": "c2839012",
   "metadata": {},
   "outputs": [
    {
     "name": "stdout",
     "output_type": "stream",
     "text": [
      "Best performance for AdaBoostClassifier: 0.961725 using {'n_estimators': 75}\n"
     ]
    }
   ],
   "source": [
    "gsc = GridSearchCV(\n",
    "    estimator= AdaBoostClassifier(),\n",
    "    param_grid={'n_estimators': range(50,100,25)}, # defining parameter range\n",
    "    scoring= 'accuracy',\n",
    "    cv=5\n",
    ")\n",
    "\n",
    "grid_result_AdaBoost = gsc.fit(X_train, y_train)\n",
    "\n",
    "print(\"Best performance for AdaBoostClassifier: %f using %s\" % (grid_result_AdaBoost.best_score_, grid_result_AdaBoost.best_params_))"
   ]
  },
  {
   "cell_type": "markdown",
   "id": "6812b876",
   "metadata": {},
   "source": [
    "### ExtraTreesClassifier "
   ]
  },
  {
   "cell_type": "code",
   "execution_count": 70,
   "id": "5ba2962d",
   "metadata": {},
   "outputs": [
    {
     "name": "stdout",
     "output_type": "stream",
     "text": [
      "Best performance for ExtraTreesClassifier: 0.975912 using {'n_estimators': 175}\n"
     ]
    }
   ],
   "source": [
    "gsc = GridSearchCV(\n",
    "    estimator=ExtraTreesClassifier(),\n",
    "    param_grid={'n_estimators': range(50,200,25)}, # defining parameter range\n",
    "    scoring='accuracy',\n",
    "    cv=5\n",
    ")\n",
    "\n",
    "grid_result_ExtraTrees = gsc.fit(X_train, y_train)\n",
    "\n",
    "print(\"Best performance for ExtraTreesClassifier: %f using %s\" % (grid_result_ExtraTrees.best_score_, grid_result_ExtraTrees.best_params_))"
   ]
  },
  {
   "cell_type": "markdown",
   "id": "0f1c60e6",
   "metadata": {},
   "source": [
    "### KNeighborsClassifier"
   ]
  },
  {
   "cell_type": "code",
   "execution_count": 71,
   "id": "6c0e3010",
   "metadata": {},
   "outputs": [
    {
     "name": "stdout",
     "output_type": "stream",
     "text": [
      "Best performance for KNeighborsClassifier: 0.880081 using {'n_neighbors': 2}\n"
     ]
    }
   ],
   "source": [
    "k_range = list(range(1, 31)) # defining parameter range\n",
    "param_grid = dict(n_neighbors=k_range)\n",
    "gsc = GridSearchCV(KNeighborsClassifier(), param_grid, cv=5, scoring='accuracy')\n",
    "grid_result_KN = gsc.fit(X_train, y_train)\n",
    "\n",
    "print(\"Best performance for KNeighborsClassifier: %f using %s\" % (grid_result_KN.best_score_, grid_result_KN.best_params_))"
   ]
  },
  {
   "cell_type": "markdown",
   "id": "6e865884",
   "metadata": {},
   "source": [
    "## 6.2 Training"
   ]
  },
  {
   "cell_type": "markdown",
   "id": "72cb82a9",
   "metadata": {},
   "source": [
    "Once we find the values ​​of the parameters of the classifiers, we can build and train the **model** of each of them. \n",
    "\n",
    "In this part, we also save the duration of the training phase of each classifier in order to compare them in the final part."
   ]
  },
  {
   "cell_type": "markdown",
   "id": "0d935078",
   "metadata": {},
   "source": [
    "### AdaBoostClassifier"
   ]
  },
  {
   "cell_type": "code",
   "execution_count": 72,
   "id": "47cbb041",
   "metadata": {},
   "outputs": [],
   "source": [
    "start = time.time()\n",
    "AdaBoostModel = AdaBoostClassifier(n_estimators=75, random_state=0)\n",
    "AdaBoostModel.fit(X_train, y_train)\n",
    "end = time.time()\n",
    "times['Ada Boost Classifier'] = end-start"
   ]
  },
  {
   "cell_type": "markdown",
   "id": "e5e32476",
   "metadata": {},
   "source": [
    "### ExtraTreesClassifier"
   ]
  },
  {
   "cell_type": "code",
   "execution_count": 73,
   "id": "121669aa",
   "metadata": {},
   "outputs": [],
   "source": [
    "start = time.time()\n",
    "ExtraTreesModel = ExtraTreesClassifier(n_estimators=150 , random_state=0)\n",
    "ExtraTreesModel.fit(X_train, y_train)\n",
    "end = time.time()\n",
    "times['Extra Trees Classifier'] = end-start"
   ]
  },
  {
   "cell_type": "markdown",
   "id": "7706f9ff",
   "metadata": {},
   "source": [
    "### KNeighborsClassifier"
   ]
  },
  {
   "cell_type": "code",
   "execution_count": 74,
   "id": "511b0a5d",
   "metadata": {},
   "outputs": [],
   "source": [
    "start = time.time()\n",
    "KNmodel = KNeighborsClassifier(n_neighbors=2)   \n",
    "KNmodel.fit(X_train, y_train)\n",
    "end = time.time()\n",
    "times[\"K Nearest Neighbors Classifier\"] = end - start"
   ]
  },
  {
   "cell_type": "markdown",
   "id": "efcd0651",
   "metadata": {},
   "source": [
    "## 6.4 Testing"
   ]
  },
  {
   "cell_type": "markdown",
   "id": "9206c06a",
   "metadata": {},
   "source": [
    "Once the model has been trained, we can finally test it. This phase is no less important than the training phase because it allows us to see if the model has **really learned from the data** and if it is able to **replicate the same procedure** even on data it has never seen.\n",
    "\n",
    " As well as simply predicting the belonging class of each istance, 0 (not spam) or 1 (spam), we also calculate the **probability** that an instance belongs to a certain class or not. \n",
    " \n",
    " The probabilities of belonging to a class make the model **more flexible** and allow us to understand which of the models predicts better."
   ]
  },
  {
   "cell_type": "markdown",
   "id": "a86dc9fa",
   "metadata": {},
   "source": [
    "### AdaBoostClassifier"
   ]
  },
  {
   "cell_type": "code",
   "execution_count": 75,
   "id": "bfc65ad5",
   "metadata": {},
   "outputs": [],
   "source": [
    "y_pred_AdaBoost = AdaBoostModel.predict(X_test) "
   ]
  },
  {
   "cell_type": "code",
   "execution_count": 76,
   "id": "fe28e22d",
   "metadata": {},
   "outputs": [
    {
     "data": {
      "image/png": "[encoded data removed]",
      "text/plain": [
       "<Figure size 640x480 with 2 Axes>"
      ]
     },
     "metadata": {},
     "output_type": "display_data"
    }
   ],
   "source": [
    "cm = my_confusion_matrix(list(y_test), y_pred_AdaBoost)\n",
    "disp = metrics.ConfusionMatrixDisplay(confusion_matrix=cm, display_labels=['Not Spam', 'Spam'])\n",
    "disp.plot()\n",
    "plt.show()"
   ]
  },
  {
   "cell_type": "code",
   "execution_count": 77,
   "id": "fc634eba",
   "metadata": {},
   "outputs": [
    {
     "data": {
      "text/plain": [
       "array([[0.53688544, 0.46311456],\n",
       "       [0.47533434, 0.52466566],\n",
       "       [0.74351241, 0.25648759],\n",
       "       [0.63267303, 0.36732697],\n",
       "       [0.50649253, 0.49350747],\n",
       "       [0.51570525, 0.48429475],\n",
       "       [0.65884219, 0.34115781],\n",
       "       [0.4786738 , 0.5213262 ],\n",
       "       [0.49870419, 0.50129581],\n",
       "       [0.47030227, 0.52969773]])"
      ]
     },
     "execution_count": 77,
     "metadata": {},
     "output_type": "execute_result"
    }
   ],
   "source": [
    "y_prob_AdaBoost = AdaBoostModel.predict_proba(X_test)\n",
    "y_prob_AdaBoost[:10]"
   ]
  },
  {
   "cell_type": "markdown",
   "id": "a9b61875",
   "metadata": {},
   "source": [
    "### ExtraTreesClassifier "
   ]
  },
  {
   "cell_type": "code",
   "execution_count": 78,
   "id": "cc1a7375",
   "metadata": {},
   "outputs": [],
   "source": [
    "y_pred_ExtraTrees = ExtraTreesModel.predict(X_test) "
   ]
  },
  {
   "cell_type": "code",
   "execution_count": 79,
   "id": "f156495c",
   "metadata": {},
   "outputs": [
    {
     "data": {
      "image/png": "[encoded data removed]",
      "text/plain": [
       "<Figure size 640x480 with 2 Axes>"
      ]
     },
     "metadata": {},
     "output_type": "display_data"
    }
   ],
   "source": [
    "cm = my_confusion_matrix(list(y_test), y_pred_ExtraTrees)\n",
    "disp = metrics.ConfusionMatrixDisplay(confusion_matrix=cm, display_labels=['Not Spam', 'Spam'])\n",
    "disp.plot()\n",
    "plt.show()"
   ]
  },
  {
   "cell_type": "code",
   "execution_count": 80,
   "id": "77d30c1e",
   "metadata": {},
   "outputs": [
    {
     "data": {
      "text/plain": [
       "array([0, 1, 0, 0, 0, 0, 0, 1, 0, 1], dtype=int64)"
      ]
     },
     "execution_count": 80,
     "metadata": {},
     "output_type": "execute_result"
    }
   ],
   "source": [
    "y_pred_ExtraTrees[:10]"
   ]
  },
  {
   "cell_type": "code",
   "execution_count": 81,
   "id": "8f99325f",
   "metadata": {},
   "outputs": [
    {
     "data": {
      "text/plain": [
       "array([[0.90666667, 0.09333333],\n",
       "       [0.12666667, 0.87333333],\n",
       "       [0.94666667, 0.05333333],\n",
       "       [0.79333333, 0.20666667],\n",
       "       [0.52      , 0.48      ],\n",
       "       [0.54666667, 0.45333333],\n",
       "       [1.        , 0.        ],\n",
       "       [0.08666667, 0.91333333],\n",
       "       [0.52705882, 0.47294118],\n",
       "       [0.29333333, 0.70666667]])"
      ]
     },
     "execution_count": 81,
     "metadata": {},
     "output_type": "execute_result"
    }
   ],
   "source": [
    "y_prob_ExtraTrees = ExtraTreesModel.predict_proba(X_test)\n",
    "y_prob_ExtraTrees[:10]"
   ]
  },
  {
   "cell_type": "markdown",
   "id": "58f2cf05",
   "metadata": {},
   "source": [
    "### KNeighborsClassifier"
   ]
  },
  {
   "cell_type": "code",
   "execution_count": 82,
   "id": "b725a39e",
   "metadata": {},
   "outputs": [],
   "source": [
    "y_pred_KN = KNmodel.predict(X_test)"
   ]
  },
  {
   "cell_type": "code",
   "execution_count": 83,
   "id": "44e39163",
   "metadata": {
    "scrolled": true
   },
   "outputs": [
    {
     "data": {
      "image/png": "[encoded data removed]",
      "text/plain": [
       "<Figure size 640x480 with 2 Axes>"
      ]
     },
     "metadata": {},
     "output_type": "display_data"
    }
   ],
   "source": [
    "cm = my_confusion_matrix(list(y_test), y_pred_KN)\n",
    "disp = metrics.ConfusionMatrixDisplay(confusion_matrix=cm, display_labels=['Not Spam', 'Spam'])\n",
    "disp.plot()\n",
    "plt.show()"
   ]
  },
  {
   "cell_type": "code",
   "execution_count": 84,
   "id": "74c60acd",
   "metadata": {},
   "outputs": [
    {
     "data": {
      "text/plain": [
       "array([[1., 0.],\n",
       "       [0., 1.],\n",
       "       [1., 0.],\n",
       "       ...,\n",
       "       [1., 0.],\n",
       "       [1., 0.],\n",
       "       [0., 1.]])"
      ]
     },
     "execution_count": 84,
     "metadata": {},
     "output_type": "execute_result"
    }
   ],
   "source": [
    "y_prob_KN = KNmodel.predict_proba(X_test)\n",
    "y_prob_KN"
   ]
  },
  {
   "cell_type": "markdown",
   "id": "7b47629a",
   "metadata": {},
   "source": [
    "# 7. Performance evaluation"
   ]
  },
  {
   "cell_type": "markdown",
   "id": "b9807177",
   "metadata": {},
   "source": [
    "Once we get the predictions and the probabilities of belonging to a class, we can evaluate the performance of each model using previously implemented metrics."
   ]
  },
  {
   "cell_type": "code",
   "execution_count": 85,
   "id": "6051767d",
   "metadata": {},
   "outputs": [],
   "source": [
    "models = {\"Logistic Regression\": None, \n",
    "            \"Naive Bayes\": None,\n",
    "            \"Ada Boost Classifier\": AdaBoostModel, \n",
    "            \"Extra Trees Classifier\": ExtraTreesModel, \n",
    "            \"K Nearest Neighbors Classifier\": KNmodel}"
   ]
  },
  {
   "cell_type": "code",
   "execution_count": 86,
   "id": "2e36150c",
   "metadata": {},
   "outputs": [],
   "source": [
    "accuracy, precision, recall, computation, eers = {}, {}, {}, {}, {}\n",
    "for key in models.keys():\n",
    "    if key != \"Logistic Regression\" and key != \"Naive Bayes\":\n",
    "        preds = models[key].predict(X_test)\n",
    "        probs = models[key].predict_proba(X_test)\n",
    "        accuracy[key] = my_accuracy_score(list(y_test), preds)\n",
    "        precision[key] = my_precision_score(list(y_test), preds)\n",
    "        recall[key] = my_recall_score(list(y_test), preds)\n",
    "        eer, far, frr = compute_EER(probs)\n",
    "        eers[key] = round(eer*100,2)\n",
    "    elif key == \"Naive Bayes\":\n",
    "        accuracy[key] = my_accuracy_score(list(y_test_NB), y_pred_NB)\n",
    "        precision[key] = my_precision_score(list(y_test_NB), y_pred_NB)\n",
    "        recall[key] = my_recall_score(list(y_test_NB), y_pred_NB)\n",
    "        eer, far, frr = compute_EER_NB(y_proba_NB)\n",
    "        eers[key] = round(eer*100,2)\n",
    "    else:\n",
    "        accuracy[key] =  my_accuracy_score(list(y_test), y_pred_LG)\n",
    "        precision[key] = my_precision_score(list(y_test), y_pred_LG)\n",
    "        recall[key] = my_recall_score(list(y_test), y_pred_LG)\n",
    "        eer, far, frr = compute_EER(y_proba_LG)\n",
    "        eers[key] = round(eer*100,2)\n"
   ]
  },
  {
   "cell_type": "code",
   "execution_count": 87,
   "id": "da406487",
   "metadata": {},
   "outputs": [
    {
     "data": {
      "text/html": [
       "<div>\n",
       "<style scoped>\n",
       "    .dataframe tbody tr th:only-of-type {\n",
       "        vertical-align: middle;\n",
       "    }\n",
       "\n",
       "    .dataframe tbody tr th {\n",
       "        vertical-align: top;\n",
       "    }\n",
       "\n",
       "    .dataframe thead th {\n",
       "        text-align: right;\n",
       "    }\n",
       "</style>\n",
       "<table border=\"1\" class=\"dataframe\">\n",
       "  <thead>\n",
       "    <tr style=\"text-align: right;\">\n",
       "      <th></th>\n",
       "      <th>Accuracy</th>\n",
       "      <th>Precision</th>\n",
       "      <th>Recall</th>\n",
       "    </tr>\n",
       "  </thead>\n",
       "  <tbody>\n",
       "    <tr>\n",
       "      <th>Logistic Regression</th>\n",
       "      <td>0.963918</td>\n",
       "      <td>0.895582</td>\n",
       "      <td>0.991111</td>\n",
       "    </tr>\n",
       "    <tr>\n",
       "      <th>Naive Bayes</th>\n",
       "      <td>0.932990</td>\n",
       "      <td>0.858921</td>\n",
       "      <td>0.920000</td>\n",
       "    </tr>\n",
       "    <tr>\n",
       "      <th>Ada Boost Classifier</th>\n",
       "      <td>0.954897</td>\n",
       "      <td>0.909483</td>\n",
       "      <td>0.937778</td>\n",
       "    </tr>\n",
       "    <tr>\n",
       "      <th>Extra Trees Classifier</th>\n",
       "      <td>0.974227</td>\n",
       "      <td>0.932489</td>\n",
       "      <td>0.982222</td>\n",
       "    </tr>\n",
       "    <tr>\n",
       "      <th>K Nearest Neighbors Classifier</th>\n",
       "      <td>0.878866</td>\n",
       "      <td>0.781116</td>\n",
       "      <td>0.808889</td>\n",
       "    </tr>\n",
       "  </tbody>\n",
       "</table>\n",
       "</div>"
      ],
      "text/plain": [
       "                                Accuracy  Precision    Recall\n",
       "Logistic Regression             0.963918   0.895582  0.991111\n",
       "Naive Bayes                     0.932990   0.858921  0.920000\n",
       "Ada Boost Classifier            0.954897   0.909483  0.937778\n",
       "Extra Trees Classifier          0.974227   0.932489  0.982222\n",
       "K Nearest Neighbors Classifier  0.878866   0.781116  0.808889"
      ]
     },
     "execution_count": 87,
     "metadata": {},
     "output_type": "execute_result"
    }
   ],
   "source": [
    "models_metrics = pd.DataFrame(index=models.keys(), columns=['Accuracy', 'Precision', 'Recall'])\n",
    "models_metrics['Accuracy'] = accuracy.values()\n",
    "models_metrics['Precision'] = precision.values()\n",
    "models_metrics['Recall'] = recall.values()\n",
    "models_metrics"
   ]
  },
  {
   "cell_type": "code",
   "execution_count": 88,
   "id": "c56e534e",
   "metadata": {},
   "outputs": [
    {
     "data": {
      "image/png": "[encoded data removed]",
      "text/plain": [
       "<Figure size 640x480 with 1 Axes>"
      ]
     },
     "metadata": {},
     "output_type": "display_data"
    }
   ],
   "source": [
    "ax = models_metrics.plot.barh()\n",
    "ax.legend(\n",
    "    ncol=len(models.keys()), \n",
    "    bbox_to_anchor=(0, 1), \n",
    "    loc='lower left', \n",
    "    prop={'size': 14}\n",
    ")\n",
    "plt.tight_layout()"
   ]
  },
  {
   "cell_type": "code",
   "execution_count": 89,
   "id": "3a86fe3f",
   "metadata": {},
   "outputs": [
    {
     "data": {
      "text/html": [
       "<div>\n",
       "<style scoped>\n",
       "    .dataframe tbody tr th:only-of-type {\n",
       "        vertical-align: middle;\n",
       "    }\n",
       "\n",
       "    .dataframe tbody tr th {\n",
       "        vertical-align: top;\n",
       "    }\n",
       "\n",
       "    .dataframe thead th {\n",
       "        text-align: right;\n",
       "    }\n",
       "</style>\n",
       "<table border=\"1\" class=\"dataframe\">\n",
       "  <thead>\n",
       "    <tr style=\"text-align: right;\">\n",
       "      <th></th>\n",
       "      <th>time (seconds)</th>\n",
       "    </tr>\n",
       "  </thead>\n",
       "  <tbody>\n",
       "    <tr>\n",
       "      <th>Logistic Regression</th>\n",
       "      <td>52.464631</td>\n",
       "    </tr>\n",
       "    <tr>\n",
       "      <th>Naive Bayes</th>\n",
       "      <td>105.095495</td>\n",
       "    </tr>\n",
       "    <tr>\n",
       "      <th>Ada Boost Classifier</th>\n",
       "      <td>8.968605</td>\n",
       "    </tr>\n",
       "    <tr>\n",
       "      <th>Extra Trees Classifier</th>\n",
       "      <td>5.827159</td>\n",
       "    </tr>\n",
       "    <tr>\n",
       "      <th>K Nearest Neighbors Classifier</th>\n",
       "      <td>0.015461</td>\n",
       "    </tr>\n",
       "  </tbody>\n",
       "</table>\n",
       "</div>"
      ],
      "text/plain": [
       "                                time (seconds)\n",
       "Logistic Regression                  52.464631\n",
       "Naive Bayes                         105.095495\n",
       "Ada Boost Classifier                  8.968605\n",
       "Extra Trees Classifier                5.827159\n",
       "K Nearest Neighbors Classifier        0.015461"
      ]
     },
     "execution_count": 89,
     "metadata": {},
     "output_type": "execute_result"
    }
   ],
   "source": [
    "computation_time_models = pd.DataFrame(index=models.keys(), columns=['time (seconds)'])\n",
    "computation_time_models['time (seconds)'] = times.values()\n",
    "computation_time_models"
   ]
  },
  {
   "cell_type": "code",
   "execution_count": 90,
   "id": "064ffaaa",
   "metadata": {},
   "outputs": [
    {
     "data": {
      "image/png": "[encoded data removed]",
      "text/plain": [
       "<Figure size 640x480 with 1 Axes>"
      ]
     },
     "metadata": {},
     "output_type": "display_data"
    }
   ],
   "source": [
    "ax = computation_time_models.plot.barh()\n",
    "ax.legend(\n",
    "    ncol=len(models.keys()), \n",
    "    bbox_to_anchor=(0, 1), \n",
    "    loc='lower left', \n",
    "    prop={'size': 14}\n",
    ")\n",
    "plt.tight_layout()"
   ]
  },
  {
   "cell_type": "code",
   "execution_count": 91,
   "id": "f986f5c2",
   "metadata": {},
   "outputs": [
    {
     "data": {
      "text/html": [
       "<div>\n",
       "<style scoped>\n",
       "    .dataframe tbody tr th:only-of-type {\n",
       "        vertical-align: middle;\n",
       "    }\n",
       "\n",
       "    .dataframe tbody tr th {\n",
       "        vertical-align: top;\n",
       "    }\n",
       "\n",
       "    .dataframe thead th {\n",
       "        text-align: right;\n",
       "    }\n",
       "</style>\n",
       "<table border=\"1\" class=\"dataframe\">\n",
       "  <thead>\n",
       "    <tr style=\"text-align: right;\">\n",
       "      <th></th>\n",
       "      <th>EER%</th>\n",
       "    </tr>\n",
       "  </thead>\n",
       "  <tbody>\n",
       "    <tr>\n",
       "      <th>Logistic Regression</th>\n",
       "      <td>4.09</td>\n",
       "    </tr>\n",
       "    <tr>\n",
       "      <th>Naive Bayes</th>\n",
       "      <td>6.60</td>\n",
       "    </tr>\n",
       "    <tr>\n",
       "      <th>Ada Boost Classifier</th>\n",
       "      <td>5.02</td>\n",
       "    </tr>\n",
       "    <tr>\n",
       "      <th>Extra Trees Classifier</th>\n",
       "      <td>2.25</td>\n",
       "    </tr>\n",
       "    <tr>\n",
       "      <th>K Nearest Neighbors Classifier</th>\n",
       "      <td>14.18</td>\n",
       "    </tr>\n",
       "  </tbody>\n",
       "</table>\n",
       "</div>"
      ],
      "text/plain": [
       "                                 EER%\n",
       "Logistic Regression              4.09\n",
       "Naive Bayes                      6.60\n",
       "Ada Boost Classifier             5.02\n",
       "Extra Trees Classifier           2.25\n",
       "K Nearest Neighbors Classifier  14.18"
      ]
     },
     "execution_count": 91,
     "metadata": {},
     "output_type": "execute_result"
    }
   ],
   "source": [
    "# we should correct the calculation of EER for NB model\n",
    "eer_models = pd.DataFrame(index=models.keys(), columns=['EER%'])\n",
    "eer_models['EER%'] = eers.values()\n",
    "eer_models"
   ]
  },
  {
   "cell_type": "code",
   "execution_count": 92,
   "id": "6f5c1f43",
   "metadata": {},
   "outputs": [
    {
     "data": {
      "image/png": "[encoded data removed]",
      "text/plain": [
       "<Figure size 640x480 with 1 Axes>"
      ]
     },
     "metadata": {},
     "output_type": "display_data"
    }
   ],
   "source": [
    "ax = eer_models.plot.barh()\n",
    "ax.legend(\n",
    "    ncol=len(models.keys()), \n",
    "    bbox_to_anchor=(0, 1), \n",
    "    loc='lower left', \n",
    "    prop={'size': 14}\n",
    ")\n",
    "plt.tight_layout()"
   ]
  },
  {
   "cell_type": "markdown",
   "id": "36b7b4cb",
   "metadata": {},
   "source": [
    "We decide to graphically display the EER of the model created by ExtraTreesClassifier in order to show how the EER is the point where the FAR curve and the FRR curve intersect."
   ]
  },
  {
   "cell_type": "code",
   "execution_count": 93,
   "id": "e613d0f7",
   "metadata": {},
   "outputs": [
    {
     "data": {
      "image/png": "[encoded data removed]",
      "text/plain": [
       "<Figure size 640x480 with 1 Axes>"
      ]
     },
     "metadata": {},
     "output_type": "display_data"
    }
   ],
   "source": [
    "eer_ExtraTrees, far_ExtraTrees, frr_ExtraTrees = compute_EER(y_prob_ExtraTrees)\n",
    "\n",
    "x = np.linspace(0,1,101) \n",
    "fig, ax = plt.subplots()\n",
    "\n",
    "ax.plot(far_ExtraTrees, 'r--', label='FAR')\n",
    "ax.plot(frr_ExtraTrees, 'g--', label='FRR')\n",
    "plt.xlabel('Threshold')\n",
    "plt.ylabel('Equal Error Rate')\n",
    "plt.plot(50, eer_ExtraTrees,'ro', label='EER') \n",
    "plt.title('Extra Trees Classifier EER')\n",
    "legend = ax.legend(loc='upper center', shadow=True, fontsize='x-large')\n",
    "\n",
    "plt.show()"
   ]
  },
  {
   "cell_type": "code",
   "execution_count": 94,
   "id": "09f80921",
   "metadata": {},
   "outputs": [
    {
     "data": {
      "text/plain": [
       "<matplotlib.legend.Legend at 0x148d18fb640>"
      ]
     },
     "execution_count": 94,
     "metadata": {},
     "output_type": "execute_result"
    },
    {
     "data": {
      "image/png": "[encoded data removed]",
      "text/plain": [
       "<Figure size 640x480 with 1 Axes>"
      ]
     },
     "metadata": {},
     "output_type": "display_data"
    }
   ],
   "source": [
    "from sklearn.metrics import roc_curve\n",
    "\n",
    "for key in models.keys():\n",
    "    if key != \"Logistic Regression\" and key != \"Naive Bayes\":\n",
    "        preds = models[key].predict(X_test)\n",
    "        probs = models[key].predict_proba(X_test)\n",
    "        y_prob = [x[1] for x in probs]\n",
    "        fpr, tpr, thresholds = roc_curve(y_test, y_prob)\n",
    "        plt.plot(fpr, tpr, label = key)\n",
    "    elif key == \"Naive Bayes\":\n",
    "        fpr, tpr, thresholds = roc_curve(y_test_NB, y_proba_NB[:,1])\n",
    "        plt.plot(fpr, tpr, label = key)\n",
    "    else:\n",
    "        y_prob = [x[1] for x in y_proba_LG]\n",
    "        fpr, tpr, thresholds = roc_curve(y_test, y_prob)\n",
    "        plt.plot(fpr, tpr, label = key)\n",
    "       \n",
    "plt.xlabel('False Positive Rate')\n",
    "plt.ylabel('True Positive Rate')\n",
    "plt.title('ROC Curve')\n",
    "plt.legend()"
   ]
  },
  {
   "cell_type": "markdown",
   "id": "7ad5610f",
   "metadata": {},
   "source": [
    "## 6.3 Cross Validation"
   ]
  },
  {
   "cell_type": "code",
   "execution_count": 95,
   "id": "2cbde061",
   "metadata": {},
   "outputs": [
    {
     "data": {
      "text/html": [
       "<div>\n",
       "<style scoped>\n",
       "    .dataframe tbody tr th:only-of-type {\n",
       "        vertical-align: middle;\n",
       "    }\n",
       "\n",
       "    .dataframe tbody tr th {\n",
       "        vertical-align: top;\n",
       "    }\n",
       "\n",
       "    .dataframe thead th {\n",
       "        text-align: right;\n",
       "    }\n",
       "</style>\n",
       "<table border=\"1\" class=\"dataframe\">\n",
       "  <thead>\n",
       "    <tr style=\"text-align: right;\">\n",
       "      <th></th>\n",
       "      <th>accuracy</th>\n",
       "    </tr>\n",
       "  </thead>\n",
       "  <tbody>\n",
       "    <tr>\n",
       "      <th>Logistic Regression</th>\n",
       "      <td>0.568182</td>\n",
       "    </tr>\n",
       "    <tr>\n",
       "      <th>Naive Bayes</th>\n",
       "      <td>0.581818</td>\n",
       "    </tr>\n",
       "    <tr>\n",
       "      <th>Ada Boost Classifier</th>\n",
       "      <td>0.959091</td>\n",
       "    </tr>\n",
       "    <tr>\n",
       "      <th>Extra Trees Classifier</th>\n",
       "      <td>0.986364</td>\n",
       "    </tr>\n",
       "    <tr>\n",
       "      <th>K Nearest Neighbors Classifier</th>\n",
       "      <td>0.915152</td>\n",
       "    </tr>\n",
       "  </tbody>\n",
       "</table>\n",
       "</div>"
      ],
      "text/plain": [
       "                                accuracy\n",
       "Logistic Regression             0.568182\n",
       "Naive Bayes                     0.581818\n",
       "Ada Boost Classifier            0.959091\n",
       "Extra Trees Classifier          0.986364\n",
       "K Nearest Neighbors Classifier  0.915152"
      ]
     },
     "execution_count": 95,
     "metadata": {},
     "output_type": "execute_result"
    }
   ],
   "source": [
    "scores = {}\n",
    "\n",
    "for key, model in models.items():\n",
    "    if key != 'Logistic Regression' and key != \"Naive Bayes\":\n",
    "        preds = model.predict(X_val)\n",
    "        score = my_accuracy_score(list(y_val), preds)\n",
    "        scores[key] = score\n",
    "    elif key == \"Naive Bayes\":\n",
    "        score = my_accuracy_score(list(y_val_NB), y_pred_NB)\n",
    "        scores[key] = score\n",
    "    else:\n",
    "        y_pred = my_predict(theta_final, x_test, 0.4)\n",
    "        score = my_accuracy_score(list(y_val), preds)\n",
    "        scores[key] = score\n",
    "\n",
    "df_scores = pd.DataFrame(index=scores.keys(), columns=[ 'accuracy'])\n",
    "df_scores['accuracy'] = scores.values()\n",
    "df_scores"
   ]
  },
  {
   "cell_type": "code",
   "execution_count": 96,
   "id": "108a342d",
   "metadata": {},
   "outputs": [
    {
     "name": "stdout",
     "output_type": "stream",
     "text": [
      "Best classifier:  ('Extra Trees Classifier', 0.9863636363636363)\n"
     ]
    }
   ],
   "source": [
    "print('Best classifier: ', sorted(scores.items(), key = lambda item: item[1], reverse = True)[0]) "
   ]
  },
  {
   "cell_type": "markdown",
   "id": "89fd6e5c",
   "metadata": {},
   "source": [
    "# 7. Conclusions\n",
    "Extra Trees Classifier results to be the best classifier for this dataset, obtaining the best results in nearly every metrics used to evaluate all the models.\n",
    "The main advantage of Extra Trees is the reduction in bias. This is in terms of sampling from the entire dataset during the construction of the trees. Different subsets of the data may introduce different biases in the results obtained, hence Extra Trees prevents this by sampling the entire dataset."
   ]
  }
 ],
 "metadata": {
  "kernelspec": {
   "display_name": "Python 3 (ipykernel)",
   "language": "python",
   "name": "python3"
  },
  "language_info": {
   "codemirror_mode": {
    "name": "ipython",
    "version": 3
   },
   "file_extension": ".py",
   "mimetype": "text/x-python",
   "name": "python",
   "nbconvert_exporter": "python",
   "pygments_lexer": "ipython3",
   "version": "3.9.13"
  },
  "vscode": {
   "interpreter": {
    "hash": "979bf14ea64443ff3ffb738d52926696eb30c1bf62b3b549289c26deae58448a"
   }
  }
 },
 "nbformat": 4,
 "nbformat_minor": 5
}
